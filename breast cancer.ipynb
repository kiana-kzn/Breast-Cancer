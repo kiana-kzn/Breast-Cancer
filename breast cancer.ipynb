{
 "cells": [
  {
   "cell_type": "code",
   "execution_count": 150,
   "metadata": {},
   "outputs": [],
   "source": [
    "# importing essential libraries\n",
    "import matplotlib.pyplot as plt\n",
    "import numpy as np\n",
    "import pandas as pd\n",
    "import seaborn as sns\n",
    "import plotly.express as px  # for interactive visualizations\n",
    "import pingouin as pgn  # hypothesis testing\n",
    "import missingno as msno  # visualizing the missing values\n",
    "from lifelines import KaplanMeierFitter  # plotting survival curves\n",
    "from lifelines.statistics import logrank_test  # the check the discrepancy of different survival curves\n",
    "from catboost import CatBoostClassifier, Pool  # for imputing missing values\n",
    "from sklearn.model_selection import train_test_split  # splitting original dataset into traning and testing datasets\n",
    "import statsmodels.api as sm_api  # related to statistical methods\n",
    "from statsmodels import stats  # related to statistical methods\n",
    "from scipy import stats as st  # related to statistical methods\n",
    "from statsmodels.stats import power as pwr  # power analysis\n",
    "from statsmodels.stats.proportion import proportions_ztest  # used for proportions hypothesis test"
   ]
  },
  {
   "cell_type": "code",
   "execution_count": 151,
   "metadata": {},
   "outputs": [],
   "source": [
    "import warnings\n",
    "warnings.filterwarnings(\"ignore\")  # turn-off all warnings"
   ]
  },
  {
   "cell_type": "code",
   "execution_count": 152,
   "metadata": {},
   "outputs": [
    {
     "data": {
      "text/html": [
       "<div>\n",
       "<style scoped>\n",
       "    .dataframe tbody tr th:only-of-type {\n",
       "        vertical-align: middle;\n",
       "    }\n",
       "\n",
       "    .dataframe tbody tr th {\n",
       "        vertical-align: top;\n",
       "    }\n",
       "\n",
       "    .dataframe thead th {\n",
       "        text-align: right;\n",
       "    }\n",
       "</style>\n",
       "<table border=\"1\" class=\"dataframe\">\n",
       "  <thead>\n",
       "    <tr style=\"text-align: right;\">\n",
       "      <th></th>\n",
       "      <th>Patient_ID</th>\n",
       "      <th>Age</th>\n",
       "      <th>Gender</th>\n",
       "      <th>Protein1</th>\n",
       "      <th>Protein2</th>\n",
       "      <th>Protein3</th>\n",
       "      <th>Protein4</th>\n",
       "      <th>Tumour_Stage</th>\n",
       "      <th>Histology</th>\n",
       "      <th>ER status</th>\n",
       "      <th>PR status</th>\n",
       "      <th>HER2 status</th>\n",
       "      <th>Surgery_type</th>\n",
       "      <th>Date_of_Surgery</th>\n",
       "      <th>Date_of_Last_Visit</th>\n",
       "      <th>Patient_Status</th>\n",
       "    </tr>\n",
       "  </thead>\n",
       "  <tbody>\n",
       "    <tr>\n",
       "      <th>0</th>\n",
       "      <td>TCGA-D8-A1XD</td>\n",
       "      <td>36</td>\n",
       "      <td>FEMALE</td>\n",
       "      <td>0.080353</td>\n",
       "      <td>0.42638</td>\n",
       "      <td>0.54715</td>\n",
       "      <td>0.273680</td>\n",
       "      <td>III</td>\n",
       "      <td>Infiltrating Ductal Carcinoma</td>\n",
       "      <td>Positive</td>\n",
       "      <td>Positive</td>\n",
       "      <td>Negative</td>\n",
       "      <td>Modified Radical Mastectomy</td>\n",
       "      <td>2017-01-15</td>\n",
       "      <td>2017-06-19</td>\n",
       "      <td>Alive</td>\n",
       "    </tr>\n",
       "    <tr>\n",
       "      <th>1</th>\n",
       "      <td>TCGA-EW-A1OX</td>\n",
       "      <td>43</td>\n",
       "      <td>FEMALE</td>\n",
       "      <td>-0.420320</td>\n",
       "      <td>0.57807</td>\n",
       "      <td>0.61447</td>\n",
       "      <td>-0.031505</td>\n",
       "      <td>II</td>\n",
       "      <td>Mucinous Carcinoma</td>\n",
       "      <td>Positive</td>\n",
       "      <td>Positive</td>\n",
       "      <td>Negative</td>\n",
       "      <td>Lumpectomy</td>\n",
       "      <td>2017-04-26</td>\n",
       "      <td>2018-11-09</td>\n",
       "      <td>Dead</td>\n",
       "    </tr>\n",
       "    <tr>\n",
       "      <th>2</th>\n",
       "      <td>TCGA-A8-A079</td>\n",
       "      <td>69</td>\n",
       "      <td>FEMALE</td>\n",
       "      <td>0.213980</td>\n",
       "      <td>1.31140</td>\n",
       "      <td>-0.32747</td>\n",
       "      <td>-0.234260</td>\n",
       "      <td>III</td>\n",
       "      <td>Infiltrating Ductal Carcinoma</td>\n",
       "      <td>Positive</td>\n",
       "      <td>Positive</td>\n",
       "      <td>Negative</td>\n",
       "      <td>Other</td>\n",
       "      <td>2017-09-08</td>\n",
       "      <td>2018-06-09</td>\n",
       "      <td>Alive</td>\n",
       "    </tr>\n",
       "    <tr>\n",
       "      <th>3</th>\n",
       "      <td>TCGA-D8-A1XR</td>\n",
       "      <td>56</td>\n",
       "      <td>FEMALE</td>\n",
       "      <td>0.345090</td>\n",
       "      <td>-0.21147</td>\n",
       "      <td>-0.19304</td>\n",
       "      <td>0.124270</td>\n",
       "      <td>II</td>\n",
       "      <td>Infiltrating Ductal Carcinoma</td>\n",
       "      <td>Positive</td>\n",
       "      <td>Positive</td>\n",
       "      <td>Negative</td>\n",
       "      <td>Modified Radical Mastectomy</td>\n",
       "      <td>2017-01-25</td>\n",
       "      <td>2017-07-12</td>\n",
       "      <td>Alive</td>\n",
       "    </tr>\n",
       "    <tr>\n",
       "      <th>4</th>\n",
       "      <td>TCGA-BH-A0BF</td>\n",
       "      <td>56</td>\n",
       "      <td>FEMALE</td>\n",
       "      <td>0.221550</td>\n",
       "      <td>1.90680</td>\n",
       "      <td>0.52045</td>\n",
       "      <td>-0.311990</td>\n",
       "      <td>II</td>\n",
       "      <td>Infiltrating Ductal Carcinoma</td>\n",
       "      <td>Positive</td>\n",
       "      <td>Positive</td>\n",
       "      <td>Negative</td>\n",
       "      <td>Other</td>\n",
       "      <td>2017-05-06</td>\n",
       "      <td>2019-06-27</td>\n",
       "      <td>Dead</td>\n",
       "    </tr>\n",
       "  </tbody>\n",
       "</table>\n",
       "</div>"
      ],
      "text/plain": [
       "     Patient_ID  Age  Gender  Protein1  Protein2  Protein3  Protein4  \\\n",
       "0  TCGA-D8-A1XD   36  FEMALE  0.080353   0.42638   0.54715  0.273680   \n",
       "1  TCGA-EW-A1OX   43  FEMALE -0.420320   0.57807   0.61447 -0.031505   \n",
       "2  TCGA-A8-A079   69  FEMALE  0.213980   1.31140  -0.32747 -0.234260   \n",
       "3  TCGA-D8-A1XR   56  FEMALE  0.345090  -0.21147  -0.19304  0.124270   \n",
       "4  TCGA-BH-A0BF   56  FEMALE  0.221550   1.90680   0.52045 -0.311990   \n",
       "\n",
       "  Tumour_Stage                      Histology ER status PR status HER2 status  \\\n",
       "0          III  Infiltrating Ductal Carcinoma  Positive  Positive    Negative   \n",
       "1           II             Mucinous Carcinoma  Positive  Positive    Negative   \n",
       "2          III  Infiltrating Ductal Carcinoma  Positive  Positive    Negative   \n",
       "3           II  Infiltrating Ductal Carcinoma  Positive  Positive    Negative   \n",
       "4           II  Infiltrating Ductal Carcinoma  Positive  Positive    Negative   \n",
       "\n",
       "                  Surgery_type Date_of_Surgery Date_of_Last_Visit  \\\n",
       "0  Modified Radical Mastectomy      2017-01-15         2017-06-19   \n",
       "1                   Lumpectomy      2017-04-26         2018-11-09   \n",
       "2                        Other      2017-09-08         2018-06-09   \n",
       "3  Modified Radical Mastectomy      2017-01-25         2017-07-12   \n",
       "4                        Other      2017-05-06         2019-06-27   \n",
       "\n",
       "  Patient_Status  \n",
       "0          Alive  \n",
       "1           Dead  \n",
       "2          Alive  \n",
       "3          Alive  \n",
       "4           Dead  "
      ]
     },
     "execution_count": 152,
     "metadata": {},
     "output_type": "execute_result"
    }
   ],
   "source": [
    "# read the dataset path\n",
    "dataset_path = \"BRCA.csv\"\n",
    "cancer_df = pd.read_csv(dataset_path, parse_dates=[\"Date_of_Surgery\", \"Date_of_Last_Visit\"], infer_datetime_format=True)\n",
    "cancer_df.head()"
   ]
  },
  {
   "cell_type": "code",
   "execution_count": 153,
   "metadata": {},
   "outputs": [
    {
     "data": {
      "text/plain": [
       "(334, 16)"
      ]
     },
     "execution_count": 153,
     "metadata": {},
     "output_type": "execute_result"
    }
   ],
   "source": [
    "cancer_df.shape"
   ]
  },
  {
   "cell_type": "code",
   "execution_count": 154,
   "metadata": {},
   "outputs": [
    {
     "name": "stdout",
     "output_type": "stream",
     "text": [
      "<class 'pandas.core.frame.DataFrame'>\n",
      "RangeIndex: 334 entries, 0 to 333\n",
      "Data columns (total 16 columns):\n",
      " #   Column              Non-Null Count  Dtype         \n",
      "---  ------              --------------  -----         \n",
      " 0   Patient_ID          334 non-null    object        \n",
      " 1   Age                 334 non-null    int64         \n",
      " 2   Gender              334 non-null    object        \n",
      " 3   Protein1            334 non-null    float64       \n",
      " 4   Protein2            334 non-null    float64       \n",
      " 5   Protein3            334 non-null    float64       \n",
      " 6   Protein4            334 non-null    float64       \n",
      " 7   Tumour_Stage        334 non-null    object        \n",
      " 8   Histology           334 non-null    object        \n",
      " 9   ER status           334 non-null    object        \n",
      " 10  PR status           334 non-null    object        \n",
      " 11  HER2 status         334 non-null    object        \n",
      " 12  Surgery_type        334 non-null    object        \n",
      " 13  Date_of_Surgery     334 non-null    datetime64[ns]\n",
      " 14  Date_of_Last_Visit  317 non-null    datetime64[ns]\n",
      " 15  Patient_Status      321 non-null    object        \n",
      "dtypes: datetime64[ns](2), float64(4), int64(1), object(9)\n",
      "memory usage: 215.5 KB\n"
     ]
    }
   ],
   "source": [
    "# check cancer_df for dtypes and missing values\n",
    "cancer_df.info(memory_usage=\"deep\")"
   ]
  },
  {
   "cell_type": "code",
   "execution_count": 155,
   "metadata": {},
   "outputs": [
    {
     "data": {
      "text/plain": [
       "Patient_ID            317\n",
       "Age                    57\n",
       "Gender                  2\n",
       "Protein1              316\n",
       "Protein2              317\n",
       "Protein3              317\n",
       "Protein4              316\n",
       "Tumour_Stage            3\n",
       "Histology               3\n",
       "ER status               1\n",
       "PR status               1\n",
       "HER2 status             2\n",
       "Surgery_type            4\n",
       "Date_of_Surgery       178\n",
       "Date_of_Last_Visit    285\n",
       "Patient_Status          2\n",
       "dtype: int64"
      ]
     },
     "execution_count": 155,
     "metadata": {},
     "output_type": "execute_result"
    }
   ],
   "source": [
    "df = cancer_df.copy()\n",
    "df.dropna().nunique()"
   ]
  },
  {
   "cell_type": "code",
   "execution_count": 156,
   "metadata": {},
   "outputs": [
    {
     "data": {
      "text/html": [
       "<div>\n",
       "<style scoped>\n",
       "    .dataframe tbody tr th:only-of-type {\n",
       "        vertical-align: middle;\n",
       "    }\n",
       "\n",
       "    .dataframe tbody tr th {\n",
       "        vertical-align: top;\n",
       "    }\n",
       "\n",
       "    .dataframe thead th {\n",
       "        text-align: right;\n",
       "    }\n",
       "</style>\n",
       "<table border=\"1\" class=\"dataframe\">\n",
       "  <thead>\n",
       "    <tr style=\"text-align: right;\">\n",
       "      <th></th>\n",
       "      <th>Alive</th>\n",
       "      <th>Dead</th>\n",
       "    </tr>\n",
       "  </thead>\n",
       "  <tbody>\n",
       "    <tr>\n",
       "      <th>Patient_Status</th>\n",
       "      <td>0.794393</td>\n",
       "      <td>0.205607</td>\n",
       "    </tr>\n",
       "  </tbody>\n",
       "</table>\n",
       "</div>"
      ],
      "text/plain": [
       "                   Alive      Dead\n",
       "Patient_Status  0.794393  0.205607"
      ]
     },
     "execution_count": 156,
     "metadata": {},
     "output_type": "execute_result"
    }
   ],
   "source": [
    "# normalized patient_status\n",
    "df.Patient_Status.value_counts(normalize=True).to_frame().T"
   ]
  },
  {
   "cell_type": "code",
   "execution_count": 157,
   "metadata": {},
   "outputs": [
    {
     "data": {
      "text/plain": [
       "[Text(0, 0.5, 'Proportion'), Text(0.5, 0, 'Class')]"
      ]
     },
     "execution_count": 157,
     "metadata": {},
     "output_type": "execute_result"
    },
    {
     "data": {
      "image/png": "[encoded data removed]",
      "text/plain": [
       "<Figure size 288x288 with 1 Axes>"
      ]
     },
     "metadata": {},
     "output_type": "display_data"
    }
   ],
   "source": [
    "# visualize the proportions for the patient_status\n",
    "sns.set()\n",
    "plt.figure(figsize=(4, 4))\n",
    "sns.set_context(\"notebook\")\n",
    "fig = sns.barplot(data=df.Patient_Status.value_counts(normalize=True).to_frame().T)\n",
    "fig.set_title(\"Patient Status\", y=1.1)\n",
    "fig.set(ylabel=\"Proportion\",\n",
    "        xlabel=\"Class\")"
   ]
  },
  {
   "cell_type": "code",
   "execution_count": 158,
   "metadata": {},
   "outputs": [],
   "source": [
    "# drop categorical columns with high cardinality and with only unique value\n",
    "cols_to_del = [\"Patient_ID\", \"ER status\", \"PR status\"]\n",
    "df.drop(cols_to_del, axis=1, inplace=True)"
   ]
  },
  {
   "cell_type": "code",
   "execution_count": 159,
   "metadata": {},
   "outputs": [
    {
     "data": {
      "text/html": [
       "<div>\n",
       "<style scoped>\n",
       "    .dataframe tbody tr th:only-of-type {\n",
       "        vertical-align: middle;\n",
       "    }\n",
       "\n",
       "    .dataframe tbody tr th {\n",
       "        vertical-align: top;\n",
       "    }\n",
       "\n",
       "    .dataframe thead th {\n",
       "        text-align: right;\n",
       "    }\n",
       "</style>\n",
       "<table border=\"1\" class=\"dataframe\">\n",
       "  <thead>\n",
       "    <tr style=\"text-align: right;\">\n",
       "      <th></th>\n",
       "      <th>Age</th>\n",
       "      <th>Gender</th>\n",
       "      <th>Protein1</th>\n",
       "      <th>Protein2</th>\n",
       "      <th>Protein3</th>\n",
       "      <th>Protein4</th>\n",
       "      <th>Tumour_Stage</th>\n",
       "      <th>Histology</th>\n",
       "      <th>HER2 status</th>\n",
       "      <th>Surgery_type</th>\n",
       "      <th>Date_of_Surgery</th>\n",
       "      <th>Date_of_Last_Visit</th>\n",
       "      <th>Patient_Status</th>\n",
       "      <th>date_diff</th>\n",
       "    </tr>\n",
       "  </thead>\n",
       "  <tbody>\n",
       "    <tr>\n",
       "      <th>0</th>\n",
       "      <td>36</td>\n",
       "      <td>FEMALE</td>\n",
       "      <td>0.080353</td>\n",
       "      <td>0.42638</td>\n",
       "      <td>0.54715</td>\n",
       "      <td>0.273680</td>\n",
       "      <td>III</td>\n",
       "      <td>Infiltrating Ductal Carcinoma</td>\n",
       "      <td>Negative</td>\n",
       "      <td>Modified Radical Mastectomy</td>\n",
       "      <td>2017-01-15</td>\n",
       "      <td>2017-06-19</td>\n",
       "      <td>Alive</td>\n",
       "      <td>155</td>\n",
       "    </tr>\n",
       "    <tr>\n",
       "      <th>1</th>\n",
       "      <td>43</td>\n",
       "      <td>FEMALE</td>\n",
       "      <td>-0.420320</td>\n",
       "      <td>0.57807</td>\n",
       "      <td>0.61447</td>\n",
       "      <td>-0.031505</td>\n",
       "      <td>II</td>\n",
       "      <td>Mucinous Carcinoma</td>\n",
       "      <td>Negative</td>\n",
       "      <td>Lumpectomy</td>\n",
       "      <td>2017-04-26</td>\n",
       "      <td>2018-11-09</td>\n",
       "      <td>Dead</td>\n",
       "      <td>562</td>\n",
       "    </tr>\n",
       "    <tr>\n",
       "      <th>2</th>\n",
       "      <td>69</td>\n",
       "      <td>FEMALE</td>\n",
       "      <td>0.213980</td>\n",
       "      <td>1.31140</td>\n",
       "      <td>-0.32747</td>\n",
       "      <td>-0.234260</td>\n",
       "      <td>III</td>\n",
       "      <td>Infiltrating Ductal Carcinoma</td>\n",
       "      <td>Negative</td>\n",
       "      <td>Other</td>\n",
       "      <td>2017-09-08</td>\n",
       "      <td>2018-06-09</td>\n",
       "      <td>Alive</td>\n",
       "      <td>274</td>\n",
       "    </tr>\n",
       "    <tr>\n",
       "      <th>3</th>\n",
       "      <td>56</td>\n",
       "      <td>FEMALE</td>\n",
       "      <td>0.345090</td>\n",
       "      <td>-0.21147</td>\n",
       "      <td>-0.19304</td>\n",
       "      <td>0.124270</td>\n",
       "      <td>II</td>\n",
       "      <td>Infiltrating Ductal Carcinoma</td>\n",
       "      <td>Negative</td>\n",
       "      <td>Modified Radical Mastectomy</td>\n",
       "      <td>2017-01-25</td>\n",
       "      <td>2017-07-12</td>\n",
       "      <td>Alive</td>\n",
       "      <td>168</td>\n",
       "    </tr>\n",
       "    <tr>\n",
       "      <th>4</th>\n",
       "      <td>56</td>\n",
       "      <td>FEMALE</td>\n",
       "      <td>0.221550</td>\n",
       "      <td>1.90680</td>\n",
       "      <td>0.52045</td>\n",
       "      <td>-0.311990</td>\n",
       "      <td>II</td>\n",
       "      <td>Infiltrating Ductal Carcinoma</td>\n",
       "      <td>Negative</td>\n",
       "      <td>Other</td>\n",
       "      <td>2017-05-06</td>\n",
       "      <td>2019-06-27</td>\n",
       "      <td>Dead</td>\n",
       "      <td>782</td>\n",
       "    </tr>\n",
       "  </tbody>\n",
       "</table>\n",
       "</div>"
      ],
      "text/plain": [
       "   Age  Gender  Protein1  Protein2  Protein3  Protein4 Tumour_Stage  \\\n",
       "0   36  FEMALE  0.080353   0.42638   0.54715  0.273680          III   \n",
       "1   43  FEMALE -0.420320   0.57807   0.61447 -0.031505           II   \n",
       "2   69  FEMALE  0.213980   1.31140  -0.32747 -0.234260          III   \n",
       "3   56  FEMALE  0.345090  -0.21147  -0.19304  0.124270           II   \n",
       "4   56  FEMALE  0.221550   1.90680   0.52045 -0.311990           II   \n",
       "\n",
       "                       Histology HER2 status                 Surgery_type  \\\n",
       "0  Infiltrating Ductal Carcinoma    Negative  Modified Radical Mastectomy   \n",
       "1             Mucinous Carcinoma    Negative                   Lumpectomy   \n",
       "2  Infiltrating Ductal Carcinoma    Negative                        Other   \n",
       "3  Infiltrating Ductal Carcinoma    Negative  Modified Radical Mastectomy   \n",
       "4  Infiltrating Ductal Carcinoma    Negative                        Other   \n",
       "\n",
       "  Date_of_Surgery Date_of_Last_Visit Patient_Status  date_diff  \n",
       "0      2017-01-15         2017-06-19          Alive        155  \n",
       "1      2017-04-26         2018-11-09           Dead        562  \n",
       "2      2017-09-08         2018-06-09          Alive        274  \n",
       "3      2017-01-25         2017-07-12          Alive        168  \n",
       "4      2017-05-06         2019-06-27           Dead        782  "
      ]
     },
     "execution_count": 159,
     "metadata": {},
     "output_type": "execute_result"
    }
   ],
   "source": [
    "# get the surgery duration\n",
    "df[\"date_diff\"] = df.Date_of_Last_Visit - df.Date_of_Surgery\n",
    "\n",
    "# remove non-digit entries from the `date_diff` column\n",
    "df[\"date_diff\"] = df.date_diff.dt.days.astype(\"Int32\")\n",
    "\n",
    "df.head()"
   ]
  },
  {
   "cell_type": "code",
   "execution_count": 160,
   "metadata": {},
   "outputs": [
    {
     "data": {
      "text/html": [
       "<div>\n",
       "<style scoped>\n",
       "    .dataframe tbody tr th:only-of-type {\n",
       "        vertical-align: middle;\n",
       "    }\n",
       "\n",
       "    .dataframe tbody tr th {\n",
       "        vertical-align: top;\n",
       "    }\n",
       "\n",
       "    .dataframe thead th {\n",
       "        text-align: right;\n",
       "    }\n",
       "</style>\n",
       "<table border=\"1\" class=\"dataframe\">\n",
       "  <thead>\n",
       "    <tr style=\"text-align: right;\">\n",
       "      <th></th>\n",
       "      <th>Age</th>\n",
       "      <th>Gender</th>\n",
       "      <th>Protein1</th>\n",
       "      <th>Protein2</th>\n",
       "      <th>Protein3</th>\n",
       "      <th>Protein4</th>\n",
       "      <th>Tumour_Stage</th>\n",
       "      <th>Histology</th>\n",
       "      <th>HER2 status</th>\n",
       "      <th>Surgery_type</th>\n",
       "      <th>Patient_Status</th>\n",
       "      <th>date_diff</th>\n",
       "    </tr>\n",
       "  </thead>\n",
       "  <tbody>\n",
       "    <tr>\n",
       "      <th>0</th>\n",
       "      <td>36</td>\n",
       "      <td>FEMALE</td>\n",
       "      <td>0.080353</td>\n",
       "      <td>0.42638</td>\n",
       "      <td>0.54715</td>\n",
       "      <td>0.273680</td>\n",
       "      <td>III</td>\n",
       "      <td>Infiltrating Ductal Carcinoma</td>\n",
       "      <td>Negative</td>\n",
       "      <td>Modified Radical Mastectomy</td>\n",
       "      <td>Alive</td>\n",
       "      <td>155</td>\n",
       "    </tr>\n",
       "    <tr>\n",
       "      <th>1</th>\n",
       "      <td>43</td>\n",
       "      <td>FEMALE</td>\n",
       "      <td>-0.420320</td>\n",
       "      <td>0.57807</td>\n",
       "      <td>0.61447</td>\n",
       "      <td>-0.031505</td>\n",
       "      <td>II</td>\n",
       "      <td>Mucinous Carcinoma</td>\n",
       "      <td>Negative</td>\n",
       "      <td>Lumpectomy</td>\n",
       "      <td>Dead</td>\n",
       "      <td>562</td>\n",
       "    </tr>\n",
       "    <tr>\n",
       "      <th>2</th>\n",
       "      <td>69</td>\n",
       "      <td>FEMALE</td>\n",
       "      <td>0.213980</td>\n",
       "      <td>1.31140</td>\n",
       "      <td>-0.32747</td>\n",
       "      <td>-0.234260</td>\n",
       "      <td>III</td>\n",
       "      <td>Infiltrating Ductal Carcinoma</td>\n",
       "      <td>Negative</td>\n",
       "      <td>Other</td>\n",
       "      <td>Alive</td>\n",
       "      <td>274</td>\n",
       "    </tr>\n",
       "    <tr>\n",
       "      <th>3</th>\n",
       "      <td>56</td>\n",
       "      <td>FEMALE</td>\n",
       "      <td>0.345090</td>\n",
       "      <td>-0.21147</td>\n",
       "      <td>-0.19304</td>\n",
       "      <td>0.124270</td>\n",
       "      <td>II</td>\n",
       "      <td>Infiltrating Ductal Carcinoma</td>\n",
       "      <td>Negative</td>\n",
       "      <td>Modified Radical Mastectomy</td>\n",
       "      <td>Alive</td>\n",
       "      <td>168</td>\n",
       "    </tr>\n",
       "    <tr>\n",
       "      <th>4</th>\n",
       "      <td>56</td>\n",
       "      <td>FEMALE</td>\n",
       "      <td>0.221550</td>\n",
       "      <td>1.90680</td>\n",
       "      <td>0.52045</td>\n",
       "      <td>-0.311990</td>\n",
       "      <td>II</td>\n",
       "      <td>Infiltrating Ductal Carcinoma</td>\n",
       "      <td>Negative</td>\n",
       "      <td>Other</td>\n",
       "      <td>Dead</td>\n",
       "      <td>782</td>\n",
       "    </tr>\n",
       "  </tbody>\n",
       "</table>\n",
       "</div>"
      ],
      "text/plain": [
       "   Age  Gender  Protein1  Protein2  Protein3  Protein4 Tumour_Stage  \\\n",
       "0   36  FEMALE  0.080353   0.42638   0.54715  0.273680          III   \n",
       "1   43  FEMALE -0.420320   0.57807   0.61447 -0.031505           II   \n",
       "2   69  FEMALE  0.213980   1.31140  -0.32747 -0.234260          III   \n",
       "3   56  FEMALE  0.345090  -0.21147  -0.19304  0.124270           II   \n",
       "4   56  FEMALE  0.221550   1.90680   0.52045 -0.311990           II   \n",
       "\n",
       "                       Histology HER2 status                 Surgery_type  \\\n",
       "0  Infiltrating Ductal Carcinoma    Negative  Modified Radical Mastectomy   \n",
       "1             Mucinous Carcinoma    Negative                   Lumpectomy   \n",
       "2  Infiltrating Ductal Carcinoma    Negative                        Other   \n",
       "3  Infiltrating Ductal Carcinoma    Negative  Modified Radical Mastectomy   \n",
       "4  Infiltrating Ductal Carcinoma    Negative                        Other   \n",
       "\n",
       "  Patient_Status  date_diff  \n",
       "0          Alive        155  \n",
       "1           Dead        562  \n",
       "2          Alive        274  \n",
       "3          Alive        168  \n",
       "4           Dead        782  "
      ]
     },
     "execution_count": 160,
     "metadata": {},
     "output_type": "execute_result"
    }
   ],
   "source": [
    "# drop the features that aren't needed for this use-case\n",
    "df = df.drop([\"Date_of_Surgery\", \"Date_of_Last_Visit\"], axis=1)\n",
    "\n",
    "df.head()"
   ]
  },
  {
   "cell_type": "code",
   "execution_count": 161,
   "metadata": {},
   "outputs": [
    {
     "data": {
      "text/plain": [
       "Text(0.5, 1.1, 'Correlation between num/binary Features')"
      ]
     },
     "execution_count": 161,
     "metadata": {},
     "output_type": "execute_result"
    },
    {
     "data": {
      "image/png": "[encoded data removed]",
      "text/plain": [
       "<Figure size 576x504 with 2 Axes>"
      ]
     },
     "metadata": {},
     "output_type": "display_data"
    }
   ],
   "source": [
    "# plot correlation to get an idea about the imputation values\n",
    "# get heatmap for correlation between numerical/binary features\n",
    "plt.figure(figsize=(8, 7))\n",
    "sns.set_context(\"notebook\")\n",
    "sns.heatmap(tmp_df.corr(), vmin=-1, vmax=1, annot=True, cmap='coolwarm')\n",
    "plt.title(\"Correlation between num/binary Features\", fontsize=15, y=1.1)"
   ]
  },
  {
   "attachments": {},
   "cell_type": "markdown",
   "metadata": {},
   "source": [
    "# Missing Values"
   ]
  },
  {
   "cell_type": "code",
   "execution_count": 166,
   "metadata": {},
   "outputs": [
    {
     "data": {
      "text/plain": [
       "Text(0.5, 0, 'Features')"
      ]
     },
     "execution_count": 166,
     "metadata": {},
     "output_type": "execute_result"
    },
    {
     "data": {
      "image/png": "[encoded data removed]",
      "text/plain": [
       "<Figure size 576x360 with 2 Axes>"
      ]
     },
     "metadata": {
      "needs_background": "light"
     },
     "output_type": "display_data"
    }
   ],
   "source": [
    "# visualize the missing values\n",
    "# sns.set_context(\"notebook\")\n",
    "%matplotlib inline\n",
    "msno.matrix(df.sample(frac=1), figsize=(8, 5), fontsize=13)\n",
    "plt.title(\"Missing Records by Features\", fontsize=15)\n",
    "plt.xlabel(\"Features\", fontsize=13)"
   ]
  },
  {
   "cell_type": "code",
   "execution_count": null,
   "metadata": {},
   "outputs": [],
   "source": [
    "# drop records are completely empty\n",
    "df.dropna(how=\"all\", inplace=True)"
   ]
  },
  {
   "cell_type": "code",
   "execution_count": null,
   "metadata": {},
   "outputs": [
    {
     "data": {
      "image/png": "[encoded data removed]",
      "text/plain": [
       "<Figure size 504x288 with 2 Axes>"
      ]
     },
     "metadata": {
      "needs_background": "light"
     },
     "output_type": "display_data"
    }
   ],
   "source": [
    "# visualize the missing records again\n",
    "msno.matrix(df.sort_values(\"Patient_Status\"), figsize=(7, 4), fontsize=12);\n",
    "plt.title(\"Missing Records (after removing completely missing records)\", fontsize=14);\n",
    "plt.xlabel(\"Features\", fontsize=12);"
   ]
  },
  {
   "cell_type": "markdown",
   "metadata": {},
   "source": []
  },
  {
   "cell_type": "code",
   "execution_count": 168,
   "metadata": {},
   "outputs": [
    {
     "data": {
      "text/html": [
       "<div>\n",
       "<style scoped>\n",
       "    .dataframe tbody tr th:only-of-type {\n",
       "        vertical-align: middle;\n",
       "    }\n",
       "\n",
       "    .dataframe tbody tr th {\n",
       "        vertical-align: top;\n",
       "    }\n",
       "\n",
       "    .dataframe thead th {\n",
       "        text-align: right;\n",
       "    }\n",
       "</style>\n",
       "<table border=\"1\" class=\"dataframe\">\n",
       "  <thead>\n",
       "    <tr style=\"text-align: right;\">\n",
       "      <th></th>\n",
       "      <th>mean</th>\n",
       "      <th>median</th>\n",
       "    </tr>\n",
       "    <tr>\n",
       "      <th>Patient_Status</th>\n",
       "      <th></th>\n",
       "      <th></th>\n",
       "    </tr>\n",
       "  </thead>\n",
       "  <tbody>\n",
       "    <tr>\n",
       "      <th>Alive</th>\n",
       "      <td>441.443137</td>\n",
       "      <td>372.0</td>\n",
       "    </tr>\n",
       "    <tr>\n",
       "      <th>Dead</th>\n",
       "      <td>473.822581</td>\n",
       "      <td>365.0</td>\n",
       "    </tr>\n",
       "  </tbody>\n",
       "</table>\n",
       "</div>"
      ],
      "text/plain": [
       "                      mean  median\n",
       "Patient_Status                    \n",
       "Alive           441.443137   372.0\n",
       "Dead            473.822581   365.0"
      ]
     },
     "execution_count": 168,
     "metadata": {},
     "output_type": "execute_result"
    }
   ],
   "source": [
    "# get the possible imputation values\n",
    "df.groupby(\"Patient_Status\").date_diff.agg([\"mean\", \"median\"])"
   ]
  },
  {
   "cell_type": "code",
   "execution_count": 175,
   "metadata": {},
   "outputs": [
    {
     "data": {
      "text/plain": [
       "Text(0.5, 1.0, 'Distributions of date-diff by Patient-Status')"
      ]
     },
     "execution_count": 175,
     "metadata": {},
     "output_type": "execute_result"
    },
    {
     "data": {
      "image/png": "[encoded data removed]",
      "text/plain": [
       "<Figure size 432x288 with 1 Axes>"
      ]
     },
     "metadata": {},
     "output_type": "display_data"
    }
   ],
   "source": [
    "# plot the distribution of `date_diff`\n",
    "sns.set_style(\"white\")\n",
    "plt.figure(figsize=(6, 4))\n",
    "sns.histplot(data=df.dropna(), x=\"date_diff\" , hue=\"Patient_Status\", palette=\"Paired\")\n",
    "plt.title(\"Distributions of date-diff by Patient-Status\")"
   ]
  },
  {
   "attachments": {},
   "cell_type": "markdown",
   "metadata": {},
   "source": [
    "Distribution seems to be highly skewed which indicates that we should consider using median for imputations."
   ]
  },
  {
   "cell_type": "code",
   "execution_count": 178,
   "metadata": {},
   "outputs": [
    {
     "data": {
      "image/png": "[encoded data removed]",
      "text/plain": [
       "<Figure size 504x288 with 2 Axes>"
      ]
     },
     "metadata": {},
     "output_type": "display_data"
    }
   ],
   "source": [
    "df.loc[(df.date_diff.isna())&df.Patient_Status.notna(), \"date_diff\"] = 365\n",
    "\n",
    "# visualize the missing records again after partial imputations\n",
    "msno.matrix(df.sort_values(\"Patient_Status\"), figsize=(7, 4), fontsize=12);\n",
    "plt.title(\"Missing Records (after the partial imputation)\", fontsize=14);\n",
    "plt.xlabel(\"Features\", fontsize=12);"
   ]
  },
  {
   "cell_type": "code",
   "execution_count": 179,
   "metadata": {},
   "outputs": [
    {
     "data": {
      "text/plain": [
       "13"
      ]
     },
     "execution_count": 179,
     "metadata": {},
     "output_type": "execute_result"
    }
   ],
   "source": [
    "# number of missing records in the Patient_Status column\n",
    "df.Patient_Status.isna().sum()"
   ]
  },
  {
   "cell_type": "code",
   "execution_count": 180,
   "metadata": {},
   "outputs": [
    {
     "data": {
      "text/html": [
       "<div>\n",
       "<style scoped>\n",
       "    .dataframe tbody tr th:only-of-type {\n",
       "        vertical-align: middle;\n",
       "    }\n",
       "\n",
       "    .dataframe tbody tr th {\n",
       "        vertical-align: top;\n",
       "    }\n",
       "\n",
       "    .dataframe thead th {\n",
       "        text-align: right;\n",
       "    }\n",
       "</style>\n",
       "<table border=\"1\" class=\"dataframe\">\n",
       "  <thead>\n",
       "    <tr style=\"text-align: right;\">\n",
       "      <th></th>\n",
       "      <th>Age</th>\n",
       "      <th>Gender</th>\n",
       "      <th>Protein1</th>\n",
       "      <th>Protein2</th>\n",
       "      <th>Protein3</th>\n",
       "      <th>Protein4</th>\n",
       "      <th>Tumour_Stage</th>\n",
       "      <th>Histology</th>\n",
       "      <th>HER2 status</th>\n",
       "      <th>Surgery_type</th>\n",
       "      <th>Patient_Status</th>\n",
       "      <th>date_diff</th>\n",
       "    </tr>\n",
       "  </thead>\n",
       "  <tbody>\n",
       "    <tr>\n",
       "      <th>321</th>\n",
       "      <td>50</td>\n",
       "      <td>FEMALE</td>\n",
       "      <td>0.672490</td>\n",
       "      <td>1.27900</td>\n",
       "      <td>-0.321070</td>\n",
       "      <td>-0.11239</td>\n",
       "      <td>III</td>\n",
       "      <td>Infiltrating Ductal Carcinoma</td>\n",
       "      <td>Negative</td>\n",
       "      <td>Simple Mastectomy</td>\n",
       "      <td>NaN</td>\n",
       "      <td>&lt;NA&gt;</td>\n",
       "    </tr>\n",
       "    <tr>\n",
       "      <th>322</th>\n",
       "      <td>55</td>\n",
       "      <td>FEMALE</td>\n",
       "      <td>0.330640</td>\n",
       "      <td>0.84757</td>\n",
       "      <td>-0.494660</td>\n",
       "      <td>0.11656</td>\n",
       "      <td>I</td>\n",
       "      <td>Infiltrating Lobular Carcinoma</td>\n",
       "      <td>Negative</td>\n",
       "      <td>Modified Radical Mastectomy</td>\n",
       "      <td>NaN</td>\n",
       "      <td>&lt;NA&gt;</td>\n",
       "    </tr>\n",
       "    <tr>\n",
       "      <th>323</th>\n",
       "      <td>60</td>\n",
       "      <td>FEMALE</td>\n",
       "      <td>0.532420</td>\n",
       "      <td>1.54110</td>\n",
       "      <td>-1.009500</td>\n",
       "      <td>-0.12588</td>\n",
       "      <td>I</td>\n",
       "      <td>Infiltrating Ductal Carcinoma</td>\n",
       "      <td>Negative</td>\n",
       "      <td>Other</td>\n",
       "      <td>NaN</td>\n",
       "      <td>&lt;NA&gt;</td>\n",
       "    </tr>\n",
       "    <tr>\n",
       "      <th>324</th>\n",
       "      <td>44</td>\n",
       "      <td>FEMALE</td>\n",
       "      <td>-0.278840</td>\n",
       "      <td>2.16880</td>\n",
       "      <td>-0.462330</td>\n",
       "      <td>0.27220</td>\n",
       "      <td>II</td>\n",
       "      <td>Infiltrating Ductal Carcinoma</td>\n",
       "      <td>Negative</td>\n",
       "      <td>Modified Radical Mastectomy</td>\n",
       "      <td>NaN</td>\n",
       "      <td>&lt;NA&gt;</td>\n",
       "    </tr>\n",
       "    <tr>\n",
       "      <th>325</th>\n",
       "      <td>40</td>\n",
       "      <td>FEMALE</td>\n",
       "      <td>-1.455300</td>\n",
       "      <td>-0.74177</td>\n",
       "      <td>1.133600</td>\n",
       "      <td>-0.83970</td>\n",
       "      <td>III</td>\n",
       "      <td>Infiltrating Lobular Carcinoma</td>\n",
       "      <td>Negative</td>\n",
       "      <td>Other</td>\n",
       "      <td>NaN</td>\n",
       "      <td>&lt;NA&gt;</td>\n",
       "    </tr>\n",
       "    <tr>\n",
       "      <th>326</th>\n",
       "      <td>46</td>\n",
       "      <td>FEMALE</td>\n",
       "      <td>-0.010999</td>\n",
       "      <td>0.86749</td>\n",
       "      <td>0.281570</td>\n",
       "      <td>-0.54588</td>\n",
       "      <td>II</td>\n",
       "      <td>Infiltrating Lobular Carcinoma</td>\n",
       "      <td>Negative</td>\n",
       "      <td>Other</td>\n",
       "      <td>NaN</td>\n",
       "      <td>&lt;NA&gt;</td>\n",
       "    </tr>\n",
       "    <tr>\n",
       "      <th>327</th>\n",
       "      <td>71</td>\n",
       "      <td>FEMALE</td>\n",
       "      <td>0.394090</td>\n",
       "      <td>1.70540</td>\n",
       "      <td>0.035642</td>\n",
       "      <td>1.44100</td>\n",
       "      <td>II</td>\n",
       "      <td>Infiltrating Lobular Carcinoma</td>\n",
       "      <td>Negative</td>\n",
       "      <td>Modified Radical Mastectomy</td>\n",
       "      <td>NaN</td>\n",
       "      <td>&lt;NA&gt;</td>\n",
       "    </tr>\n",
       "    <tr>\n",
       "      <th>328</th>\n",
       "      <td>62</td>\n",
       "      <td>FEMALE</td>\n",
       "      <td>0.649340</td>\n",
       "      <td>1.81680</td>\n",
       "      <td>0.279260</td>\n",
       "      <td>0.13228</td>\n",
       "      <td>II</td>\n",
       "      <td>Infiltrating Lobular Carcinoma</td>\n",
       "      <td>Negative</td>\n",
       "      <td>Other</td>\n",
       "      <td>NaN</td>\n",
       "      <td>&lt;NA&gt;</td>\n",
       "    </tr>\n",
       "    <tr>\n",
       "      <th>329</th>\n",
       "      <td>50</td>\n",
       "      <td>FEMALE</td>\n",
       "      <td>-0.322890</td>\n",
       "      <td>0.98848</td>\n",
       "      <td>-0.293130</td>\n",
       "      <td>-0.26170</td>\n",
       "      <td>II</td>\n",
       "      <td>Infiltrating Ductal Carcinoma</td>\n",
       "      <td>Negative</td>\n",
       "      <td>Other</td>\n",
       "      <td>NaN</td>\n",
       "      <td>&lt;NA&gt;</td>\n",
       "    </tr>\n",
       "    <tr>\n",
       "      <th>330</th>\n",
       "      <td>88</td>\n",
       "      <td>FEMALE</td>\n",
       "      <td>-2.340900</td>\n",
       "      <td>0.37246</td>\n",
       "      <td>0.208450</td>\n",
       "      <td>-1.64110</td>\n",
       "      <td>I</td>\n",
       "      <td>Infiltrating Ductal Carcinoma</td>\n",
       "      <td>Negative</td>\n",
       "      <td>Simple Mastectomy</td>\n",
       "      <td>NaN</td>\n",
       "      <td>&lt;NA&gt;</td>\n",
       "    </tr>\n",
       "    <tr>\n",
       "      <th>331</th>\n",
       "      <td>80</td>\n",
       "      <td>FEMALE</td>\n",
       "      <td>0.670770</td>\n",
       "      <td>-0.71039</td>\n",
       "      <td>0.186480</td>\n",
       "      <td>0.14664</td>\n",
       "      <td>II</td>\n",
       "      <td>Infiltrating Lobular Carcinoma</td>\n",
       "      <td>Negative</td>\n",
       "      <td>Other</td>\n",
       "      <td>NaN</td>\n",
       "      <td>&lt;NA&gt;</td>\n",
       "    </tr>\n",
       "    <tr>\n",
       "      <th>332</th>\n",
       "      <td>56</td>\n",
       "      <td>FEMALE</td>\n",
       "      <td>-0.675420</td>\n",
       "      <td>0.26937</td>\n",
       "      <td>-0.086603</td>\n",
       "      <td>1.07140</td>\n",
       "      <td>III</td>\n",
       "      <td>Infiltrating Ductal Carcinoma</td>\n",
       "      <td>Negative</td>\n",
       "      <td>Modified Radical Mastectomy</td>\n",
       "      <td>NaN</td>\n",
       "      <td>&lt;NA&gt;</td>\n",
       "    </tr>\n",
       "    <tr>\n",
       "      <th>333</th>\n",
       "      <td>67</td>\n",
       "      <td>FEMALE</td>\n",
       "      <td>0.317420</td>\n",
       "      <td>-0.55585</td>\n",
       "      <td>0.356570</td>\n",
       "      <td>0.79733</td>\n",
       "      <td>II</td>\n",
       "      <td>Infiltrating Ductal Carcinoma</td>\n",
       "      <td>Negative</td>\n",
       "      <td>Other</td>\n",
       "      <td>NaN</td>\n",
       "      <td>&lt;NA&gt;</td>\n",
       "    </tr>\n",
       "  </tbody>\n",
       "</table>\n",
       "</div>"
      ],
      "text/plain": [
       "     Age  Gender  Protein1  Protein2  Protein3  Protein4 Tumour_Stage  \\\n",
       "321   50  FEMALE  0.672490   1.27900 -0.321070  -0.11239          III   \n",
       "322   55  FEMALE  0.330640   0.84757 -0.494660   0.11656            I   \n",
       "323   60  FEMALE  0.532420   1.54110 -1.009500  -0.12588            I   \n",
       "324   44  FEMALE -0.278840   2.16880 -0.462330   0.27220           II   \n",
       "325   40  FEMALE -1.455300  -0.74177  1.133600  -0.83970          III   \n",
       "326   46  FEMALE -0.010999   0.86749  0.281570  -0.54588           II   \n",
       "327   71  FEMALE  0.394090   1.70540  0.035642   1.44100           II   \n",
       "328   62  FEMALE  0.649340   1.81680  0.279260   0.13228           II   \n",
       "329   50  FEMALE -0.322890   0.98848 -0.293130  -0.26170           II   \n",
       "330   88  FEMALE -2.340900   0.37246  0.208450  -1.64110            I   \n",
       "331   80  FEMALE  0.670770  -0.71039  0.186480   0.14664           II   \n",
       "332   56  FEMALE -0.675420   0.26937 -0.086603   1.07140          III   \n",
       "333   67  FEMALE  0.317420  -0.55585  0.356570   0.79733           II   \n",
       "\n",
       "                          Histology HER2 status                 Surgery_type  \\\n",
       "321   Infiltrating Ductal Carcinoma    Negative            Simple Mastectomy   \n",
       "322  Infiltrating Lobular Carcinoma    Negative  Modified Radical Mastectomy   \n",
       "323   Infiltrating Ductal Carcinoma    Negative                        Other   \n",
       "324   Infiltrating Ductal Carcinoma    Negative  Modified Radical Mastectomy   \n",
       "325  Infiltrating Lobular Carcinoma    Negative                        Other   \n",
       "326  Infiltrating Lobular Carcinoma    Negative                        Other   \n",
       "327  Infiltrating Lobular Carcinoma    Negative  Modified Radical Mastectomy   \n",
       "328  Infiltrating Lobular Carcinoma    Negative                        Other   \n",
       "329   Infiltrating Ductal Carcinoma    Negative                        Other   \n",
       "330   Infiltrating Ductal Carcinoma    Negative            Simple Mastectomy   \n",
       "331  Infiltrating Lobular Carcinoma    Negative                        Other   \n",
       "332   Infiltrating Ductal Carcinoma    Negative  Modified Radical Mastectomy   \n",
       "333   Infiltrating Ductal Carcinoma    Negative                        Other   \n",
       "\n",
       "    Patient_Status  date_diff  \n",
       "321            NaN       <NA>  \n",
       "322            NaN       <NA>  \n",
       "323            NaN       <NA>  \n",
       "324            NaN       <NA>  \n",
       "325            NaN       <NA>  \n",
       "326            NaN       <NA>  \n",
       "327            NaN       <NA>  \n",
       "328            NaN       <NA>  \n",
       "329            NaN       <NA>  \n",
       "330            NaN       <NA>  \n",
       "331            NaN       <NA>  \n",
       "332            NaN       <NA>  \n",
       "333            NaN       <NA>  "
      ]
     },
     "execution_count": 180,
     "metadata": {},
     "output_type": "execute_result"
    }
   ],
   "source": [
    "# print the partial missing records\n",
    "df = df.sort_values(\"Patient_Status\").reset_index(drop=True)\n",
    "df.tail(13)"
   ]
  },
  {
   "attachments": {},
   "cell_type": "markdown",
   "metadata": {},
   "source": [
    "# Imputing Missing Values"
   ]
  },
  {
   "cell_type": "code",
   "execution_count": 181,
   "metadata": {},
   "outputs": [],
   "source": [
    "# get a copy of the original data frame to impute the missing values\n",
    "df_ = df.copy()\n",
    "date_diff_col = df_.date_diff\n",
    "df_.drop(\"date_diff\", axis=1, inplace=True)"
   ]
  },
  {
   "cell_type": "code",
   "execution_count": 182,
   "metadata": {},
   "outputs": [],
   "source": [
    "# extract the records with missing values and drop them\n",
    "missing_rec = df_.tail(13)\n",
    "df_.dropna(inplace=True)"
   ]
  },
  {
   "cell_type": "code",
   "execution_count": 183,
   "metadata": {},
   "outputs": [
    {
     "name": "stdout",
     "output_type": "stream",
     "text": [
      "There are 0 missing values in the data frame.\n"
     ]
    }
   ],
   "source": [
    "# check if there are any missing values\n",
    "print(f\"There are {df_.isna().sum().sum()} missing values in the data frame.\")"
   ]
  },
  {
   "cell_type": "code",
   "execution_count": 186,
   "metadata": {},
   "outputs": [
    {
     "data": {
      "text/plain": [
       "((321, 10), (321,))"
      ]
     },
     "execution_count": 186,
     "metadata": {},
     "output_type": "execute_result"
    }
   ],
   "source": [
    "# seperate the features and the missing values' column `Patient_Status` for imputations\n",
    "target = df_.columns.isin([\"Patient_Status\"])\n",
    "feats = ~target\n",
    "X = df_[df_.columns[feats]]\n",
    "y = df_[df_.columns[target]].apply(lambda x: 1 if x[\"Patient_Status\"]==\"Alive\" else 0, axis=1)\n",
    "X.shape, y.shape"
   ]
  },
  {
   "cell_type": "code",
   "execution_count": 187,
   "metadata": {},
   "outputs": [],
   "source": [
    "# split the data into train and validation datasets\n",
    "X_train, X_test, y_train, y_test = train_test_split(X, y, test_size=0.2, random_state=42, stratify=y)"
   ]
  },
  {
   "cell_type": "code",
   "execution_count": 188,
   "metadata": {},
   "outputs": [],
   "source": [
    "# Pool the evaluation dataset\n",
    "eval_set = Pool(X_test, y_test, cat_features=df.select_dtypes(\"object\").columns.tolist()[:-1],)"
   ]
  },
  {
   "cell_type": "code",
   "execution_count": 189,
   "metadata": {},
   "outputs": [
    {
     "data": {
      "text/plain": [
       "<catboost.core.CatBoostClassifier at 0x1fd6b521c70>"
      ]
     },
     "execution_count": 189,
     "metadata": {},
     "output_type": "execute_result"
    }
   ],
   "source": [
    "# initialize the CatBoostClassifier as `imputer` and fit the training data\n",
    "imputer = CatBoostClassifier(cat_features=df.select_dtypes(\"object\").columns.tolist()[:-1])\n",
    "imputer.fit(X_train, y_train, eval_set=eval_set, verbose=False)"
   ]
  },
  {
   "cell_type": "code",
   "execution_count": 190,
   "metadata": {},
   "outputs": [
    {
     "name": "stdout",
     "output_type": "stream",
     "text": [
      "The validation accuray is: 0.8\n"
     ]
    }
   ],
   "source": [
    "# check the validation accuracy\n",
    "print(f\"The validation accuray is: {imputer.score(X_test, y_test)}\")"
   ]
  },
  {
   "cell_type": "code",
   "execution_count": 192,
   "metadata": {},
   "outputs": [
    {
     "data": {
      "text/plain": [
       "array([[0.09342713, 0.90657287],\n",
       "       [0.19502112, 0.80497888],\n",
       "       [0.17163877, 0.82836123],\n",
       "       [0.3182909 , 0.6817091 ],\n",
       "       [0.11264781, 0.88735219],\n",
       "       [0.10841246, 0.89158754],\n",
       "       [0.32217146, 0.67782854],\n",
       "       [0.12072347, 0.87927653],\n",
       "       [0.15794531, 0.84205469],\n",
       "       [0.07948942, 0.92051058],\n",
       "       [0.0351213 , 0.9648787 ],\n",
       "       [0.20004496, 0.79995504],\n",
       "       [0.3855648 , 0.6144352 ]])"
      ]
     },
     "execution_count": 192,
     "metadata": {},
     "output_type": "execute_result"
    }
   ],
   "source": [
    "# perform predictions on the missing values' records\n",
    "pred_missing_rec = imputer.predict(missing_rec.loc[:, missing_rec.columns[feats]], prediction_type=\"Probability\")\n",
    "pred_missing_rec"
   ]
  },
  {
   "cell_type": "code",
   "execution_count": 193,
   "metadata": {},
   "outputs": [
    {
     "data": {
      "text/plain": [
       "['Alive',\n",
       " 'Alive',\n",
       " 'Alive',\n",
       " 'Alive',\n",
       " 'Alive',\n",
       " 'Alive',\n",
       " 'Alive',\n",
       " 'Alive',\n",
       " 'Alive',\n",
       " 'Alive',\n",
       " 'Alive',\n",
       " 'Alive',\n",
       " 'Alive']"
      ]
     },
     "execution_count": 193,
     "metadata": {},
     "output_type": "execute_result"
    }
   ],
   "source": [
    "# get the probabilities above in a correct format\n",
    "pred_missing_rec = np.argmax(pred_missing_rec, axis=1)\n",
    "pred_missing_rec = [\"Alive\" if status==1 else \"Dead\" for status in pred_missing_rec]\n",
    "pred_missing_rec"
   ]
  },
  {
   "cell_type": "code",
   "execution_count": 194,
   "metadata": {},
   "outputs": [
    {
     "data": {
      "text/html": [
       "<div>\n",
       "<style scoped>\n",
       "    .dataframe tbody tr th:only-of-type {\n",
       "        vertical-align: middle;\n",
       "    }\n",
       "\n",
       "    .dataframe tbody tr th {\n",
       "        vertical-align: top;\n",
       "    }\n",
       "\n",
       "    .dataframe thead th {\n",
       "        text-align: right;\n",
       "    }\n",
       "</style>\n",
       "<table border=\"1\" class=\"dataframe\">\n",
       "  <thead>\n",
       "    <tr style=\"text-align: right;\">\n",
       "      <th></th>\n",
       "      <th>Age</th>\n",
       "      <th>Gender</th>\n",
       "      <th>Protein1</th>\n",
       "      <th>Protein2</th>\n",
       "      <th>Protein3</th>\n",
       "      <th>Protein4</th>\n",
       "      <th>Tumour_Stage</th>\n",
       "      <th>Histology</th>\n",
       "      <th>HER2 status</th>\n",
       "      <th>Surgery_type</th>\n",
       "      <th>Patient_Status</th>\n",
       "      <th>date_diff</th>\n",
       "    </tr>\n",
       "  </thead>\n",
       "  <tbody>\n",
       "    <tr>\n",
       "      <th>329</th>\n",
       "      <td>50</td>\n",
       "      <td>FEMALE</td>\n",
       "      <td>-0.32289</td>\n",
       "      <td>0.98848</td>\n",
       "      <td>-0.293130</td>\n",
       "      <td>-0.26170</td>\n",
       "      <td>II</td>\n",
       "      <td>Infiltrating Ductal Carcinoma</td>\n",
       "      <td>Negative</td>\n",
       "      <td>Other</td>\n",
       "      <td>Alive</td>\n",
       "      <td>&lt;NA&gt;</td>\n",
       "    </tr>\n",
       "    <tr>\n",
       "      <th>330</th>\n",
       "      <td>88</td>\n",
       "      <td>FEMALE</td>\n",
       "      <td>-2.34090</td>\n",
       "      <td>0.37246</td>\n",
       "      <td>0.208450</td>\n",
       "      <td>-1.64110</td>\n",
       "      <td>I</td>\n",
       "      <td>Infiltrating Ductal Carcinoma</td>\n",
       "      <td>Negative</td>\n",
       "      <td>Simple Mastectomy</td>\n",
       "      <td>Alive</td>\n",
       "      <td>&lt;NA&gt;</td>\n",
       "    </tr>\n",
       "    <tr>\n",
       "      <th>331</th>\n",
       "      <td>80</td>\n",
       "      <td>FEMALE</td>\n",
       "      <td>0.67077</td>\n",
       "      <td>-0.71039</td>\n",
       "      <td>0.186480</td>\n",
       "      <td>0.14664</td>\n",
       "      <td>II</td>\n",
       "      <td>Infiltrating Lobular Carcinoma</td>\n",
       "      <td>Negative</td>\n",
       "      <td>Other</td>\n",
       "      <td>Alive</td>\n",
       "      <td>&lt;NA&gt;</td>\n",
       "    </tr>\n",
       "    <tr>\n",
       "      <th>332</th>\n",
       "      <td>56</td>\n",
       "      <td>FEMALE</td>\n",
       "      <td>-0.67542</td>\n",
       "      <td>0.26937</td>\n",
       "      <td>-0.086603</td>\n",
       "      <td>1.07140</td>\n",
       "      <td>III</td>\n",
       "      <td>Infiltrating Ductal Carcinoma</td>\n",
       "      <td>Negative</td>\n",
       "      <td>Modified Radical Mastectomy</td>\n",
       "      <td>Alive</td>\n",
       "      <td>&lt;NA&gt;</td>\n",
       "    </tr>\n",
       "    <tr>\n",
       "      <th>333</th>\n",
       "      <td>67</td>\n",
       "      <td>FEMALE</td>\n",
       "      <td>0.31742</td>\n",
       "      <td>-0.55585</td>\n",
       "      <td>0.356570</td>\n",
       "      <td>0.79733</td>\n",
       "      <td>II</td>\n",
       "      <td>Infiltrating Ductal Carcinoma</td>\n",
       "      <td>Negative</td>\n",
       "      <td>Other</td>\n",
       "      <td>Alive</td>\n",
       "      <td>&lt;NA&gt;</td>\n",
       "    </tr>\n",
       "  </tbody>\n",
       "</table>\n",
       "</div>"
      ],
      "text/plain": [
       "     Age  Gender  Protein1  Protein2  Protein3  Protein4 Tumour_Stage  \\\n",
       "329   50  FEMALE  -0.32289   0.98848 -0.293130  -0.26170           II   \n",
       "330   88  FEMALE  -2.34090   0.37246  0.208450  -1.64110            I   \n",
       "331   80  FEMALE   0.67077  -0.71039  0.186480   0.14664           II   \n",
       "332   56  FEMALE  -0.67542   0.26937 -0.086603   1.07140          III   \n",
       "333   67  FEMALE   0.31742  -0.55585  0.356570   0.79733           II   \n",
       "\n",
       "                          Histology HER2 status                 Surgery_type  \\\n",
       "329   Infiltrating Ductal Carcinoma    Negative                        Other   \n",
       "330   Infiltrating Ductal Carcinoma    Negative            Simple Mastectomy   \n",
       "331  Infiltrating Lobular Carcinoma    Negative                        Other   \n",
       "332   Infiltrating Ductal Carcinoma    Negative  Modified Radical Mastectomy   \n",
       "333   Infiltrating Ductal Carcinoma    Negative                        Other   \n",
       "\n",
       "    Patient_Status  date_diff  \n",
       "329          Alive       <NA>  \n",
       "330          Alive       <NA>  \n",
       "331          Alive       <NA>  \n",
       "332          Alive       <NA>  \n",
       "333          Alive       <NA>  "
      ]
     },
     "execution_count": 194,
     "metadata": {},
     "output_type": "execute_result"
    }
   ],
   "source": [
    "# contatenate the `df_` with no missing value and the records that are recently imputed\n",
    "missing_rec.loc[:, \"Patient_Status\"] = pred_missing_rec\n",
    "final_df = pd.concat([df_, missing_rec], axis=0)\n",
    "final_df = pd.concat([final_df, date_diff_col], axis=1)\n",
    "final_df.tail()"
   ]
  },
  {
   "cell_type": "code",
   "execution_count": 195,
   "metadata": {},
   "outputs": [
    {
     "name": "stdout",
     "output_type": "stream",
     "text": [
      "<class 'pandas.core.frame.DataFrame'>\n",
      "Int64Index: 334 entries, 0 to 333\n",
      "Data columns (total 12 columns):\n",
      " #   Column          Non-Null Count  Dtype  \n",
      "---  ------          --------------  -----  \n",
      " 0   Age             334 non-null    int64  \n",
      " 1   Gender          334 non-null    object \n",
      " 2   Protein1        334 non-null    float64\n",
      " 3   Protein2        334 non-null    float64\n",
      " 4   Protein3        334 non-null    float64\n",
      " 5   Protein4        334 non-null    float64\n",
      " 6   Tumour_Stage    334 non-null    object \n",
      " 7   Histology       334 non-null    object \n",
      " 8   HER2 status     334 non-null    object \n",
      " 9   Surgery_type    334 non-null    object \n",
      " 10  Patient_Status  334 non-null    object \n",
      " 11  date_diff       321 non-null    Int32  \n",
      "dtypes: Int32(1), float64(4), int64(1), object(6)\n",
      "memory usage: 32.9+ KB\n"
     ]
    }
   ],
   "source": [
    "# check the info of `final_df`\n",
    "final_df.info()"
   ]
  },
  {
   "cell_type": "code",
   "execution_count": 196,
   "metadata": {},
   "outputs": [
    {
     "data": {
      "text/plain": [
       "Text(0.5, 0, 'Features')"
      ]
     },
     "execution_count": 196,
     "metadata": {},
     "output_type": "execute_result"
    },
    {
     "data": {
      "image/png": "[encoded data removed]",
      "text/plain": [
       "<Figure size 504x288 with 2 Axes>"
      ]
     },
     "metadata": {},
     "output_type": "display_data"
    }
   ],
   "source": [
    "# visualize the missing values\n",
    "msno.matrix(final_df.sample(frac=1), figsize=(7, 4), fontsize=12);\n",
    "plt.title(\"Missing Records by Features (after using tree-based imputator)\", fontsize=14);\n",
    "plt.xlabel(\"Features\", fontsize=12)"
   ]
  },
  {
   "cell_type": "code",
   "execution_count": 197,
   "metadata": {},
   "outputs": [
    {
     "data": {
      "text/html": [
       "<div>\n",
       "<style scoped>\n",
       "    .dataframe tbody tr th:only-of-type {\n",
       "        vertical-align: middle;\n",
       "    }\n",
       "\n",
       "    .dataframe tbody tr th {\n",
       "        vertical-align: top;\n",
       "    }\n",
       "\n",
       "    .dataframe thead th {\n",
       "        text-align: right;\n",
       "    }\n",
       "</style>\n",
       "<table border=\"1\" class=\"dataframe\">\n",
       "  <thead>\n",
       "    <tr style=\"text-align: right;\">\n",
       "      <th></th>\n",
       "      <th>Age</th>\n",
       "      <th>Gender</th>\n",
       "      <th>Protein1</th>\n",
       "      <th>Protein2</th>\n",
       "      <th>Protein3</th>\n",
       "      <th>Protein4</th>\n",
       "      <th>Tumour_Stage</th>\n",
       "      <th>Histology</th>\n",
       "      <th>HER2 status</th>\n",
       "      <th>Surgery_type</th>\n",
       "      <th>Patient_Status</th>\n",
       "      <th>date_diff</th>\n",
       "    </tr>\n",
       "  </thead>\n",
       "  <tbody>\n",
       "    <tr>\n",
       "      <th>321</th>\n",
       "      <td>50</td>\n",
       "      <td>FEMALE</td>\n",
       "      <td>0.672490</td>\n",
       "      <td>1.27900</td>\n",
       "      <td>-0.321070</td>\n",
       "      <td>-0.11239</td>\n",
       "      <td>III</td>\n",
       "      <td>Infiltrating Ductal Carcinoma</td>\n",
       "      <td>Negative</td>\n",
       "      <td>Simple Mastectomy</td>\n",
       "      <td>Alive</td>\n",
       "      <td>&lt;NA&gt;</td>\n",
       "    </tr>\n",
       "    <tr>\n",
       "      <th>322</th>\n",
       "      <td>55</td>\n",
       "      <td>FEMALE</td>\n",
       "      <td>0.330640</td>\n",
       "      <td>0.84757</td>\n",
       "      <td>-0.494660</td>\n",
       "      <td>0.11656</td>\n",
       "      <td>I</td>\n",
       "      <td>Infiltrating Lobular Carcinoma</td>\n",
       "      <td>Negative</td>\n",
       "      <td>Modified Radical Mastectomy</td>\n",
       "      <td>Alive</td>\n",
       "      <td>&lt;NA&gt;</td>\n",
       "    </tr>\n",
       "    <tr>\n",
       "      <th>323</th>\n",
       "      <td>60</td>\n",
       "      <td>FEMALE</td>\n",
       "      <td>0.532420</td>\n",
       "      <td>1.54110</td>\n",
       "      <td>-1.009500</td>\n",
       "      <td>-0.12588</td>\n",
       "      <td>I</td>\n",
       "      <td>Infiltrating Ductal Carcinoma</td>\n",
       "      <td>Negative</td>\n",
       "      <td>Other</td>\n",
       "      <td>Alive</td>\n",
       "      <td>&lt;NA&gt;</td>\n",
       "    </tr>\n",
       "    <tr>\n",
       "      <th>324</th>\n",
       "      <td>44</td>\n",
       "      <td>FEMALE</td>\n",
       "      <td>-0.278840</td>\n",
       "      <td>2.16880</td>\n",
       "      <td>-0.462330</td>\n",
       "      <td>0.27220</td>\n",
       "      <td>II</td>\n",
       "      <td>Infiltrating Ductal Carcinoma</td>\n",
       "      <td>Negative</td>\n",
       "      <td>Modified Radical Mastectomy</td>\n",
       "      <td>Alive</td>\n",
       "      <td>&lt;NA&gt;</td>\n",
       "    </tr>\n",
       "    <tr>\n",
       "      <th>325</th>\n",
       "      <td>40</td>\n",
       "      <td>FEMALE</td>\n",
       "      <td>-1.455300</td>\n",
       "      <td>-0.74177</td>\n",
       "      <td>1.133600</td>\n",
       "      <td>-0.83970</td>\n",
       "      <td>III</td>\n",
       "      <td>Infiltrating Lobular Carcinoma</td>\n",
       "      <td>Negative</td>\n",
       "      <td>Other</td>\n",
       "      <td>Alive</td>\n",
       "      <td>&lt;NA&gt;</td>\n",
       "    </tr>\n",
       "    <tr>\n",
       "      <th>326</th>\n",
       "      <td>46</td>\n",
       "      <td>FEMALE</td>\n",
       "      <td>-0.010999</td>\n",
       "      <td>0.86749</td>\n",
       "      <td>0.281570</td>\n",
       "      <td>-0.54588</td>\n",
       "      <td>II</td>\n",
       "      <td>Infiltrating Lobular Carcinoma</td>\n",
       "      <td>Negative</td>\n",
       "      <td>Other</td>\n",
       "      <td>Alive</td>\n",
       "      <td>&lt;NA&gt;</td>\n",
       "    </tr>\n",
       "    <tr>\n",
       "      <th>327</th>\n",
       "      <td>71</td>\n",
       "      <td>FEMALE</td>\n",
       "      <td>0.394090</td>\n",
       "      <td>1.70540</td>\n",
       "      <td>0.035642</td>\n",
       "      <td>1.44100</td>\n",
       "      <td>II</td>\n",
       "      <td>Infiltrating Lobular Carcinoma</td>\n",
       "      <td>Negative</td>\n",
       "      <td>Modified Radical Mastectomy</td>\n",
       "      <td>Alive</td>\n",
       "      <td>&lt;NA&gt;</td>\n",
       "    </tr>\n",
       "    <tr>\n",
       "      <th>328</th>\n",
       "      <td>62</td>\n",
       "      <td>FEMALE</td>\n",
       "      <td>0.649340</td>\n",
       "      <td>1.81680</td>\n",
       "      <td>0.279260</td>\n",
       "      <td>0.13228</td>\n",
       "      <td>II</td>\n",
       "      <td>Infiltrating Lobular Carcinoma</td>\n",
       "      <td>Negative</td>\n",
       "      <td>Other</td>\n",
       "      <td>Alive</td>\n",
       "      <td>&lt;NA&gt;</td>\n",
       "    </tr>\n",
       "    <tr>\n",
       "      <th>329</th>\n",
       "      <td>50</td>\n",
       "      <td>FEMALE</td>\n",
       "      <td>-0.322890</td>\n",
       "      <td>0.98848</td>\n",
       "      <td>-0.293130</td>\n",
       "      <td>-0.26170</td>\n",
       "      <td>II</td>\n",
       "      <td>Infiltrating Ductal Carcinoma</td>\n",
       "      <td>Negative</td>\n",
       "      <td>Other</td>\n",
       "      <td>Alive</td>\n",
       "      <td>&lt;NA&gt;</td>\n",
       "    </tr>\n",
       "    <tr>\n",
       "      <th>330</th>\n",
       "      <td>88</td>\n",
       "      <td>FEMALE</td>\n",
       "      <td>-2.340900</td>\n",
       "      <td>0.37246</td>\n",
       "      <td>0.208450</td>\n",
       "      <td>-1.64110</td>\n",
       "      <td>I</td>\n",
       "      <td>Infiltrating Ductal Carcinoma</td>\n",
       "      <td>Negative</td>\n",
       "      <td>Simple Mastectomy</td>\n",
       "      <td>Alive</td>\n",
       "      <td>&lt;NA&gt;</td>\n",
       "    </tr>\n",
       "    <tr>\n",
       "      <th>331</th>\n",
       "      <td>80</td>\n",
       "      <td>FEMALE</td>\n",
       "      <td>0.670770</td>\n",
       "      <td>-0.71039</td>\n",
       "      <td>0.186480</td>\n",
       "      <td>0.14664</td>\n",
       "      <td>II</td>\n",
       "      <td>Infiltrating Lobular Carcinoma</td>\n",
       "      <td>Negative</td>\n",
       "      <td>Other</td>\n",
       "      <td>Alive</td>\n",
       "      <td>&lt;NA&gt;</td>\n",
       "    </tr>\n",
       "    <tr>\n",
       "      <th>332</th>\n",
       "      <td>56</td>\n",
       "      <td>FEMALE</td>\n",
       "      <td>-0.675420</td>\n",
       "      <td>0.26937</td>\n",
       "      <td>-0.086603</td>\n",
       "      <td>1.07140</td>\n",
       "      <td>III</td>\n",
       "      <td>Infiltrating Ductal Carcinoma</td>\n",
       "      <td>Negative</td>\n",
       "      <td>Modified Radical Mastectomy</td>\n",
       "      <td>Alive</td>\n",
       "      <td>&lt;NA&gt;</td>\n",
       "    </tr>\n",
       "    <tr>\n",
       "      <th>333</th>\n",
       "      <td>67</td>\n",
       "      <td>FEMALE</td>\n",
       "      <td>0.317420</td>\n",
       "      <td>-0.55585</td>\n",
       "      <td>0.356570</td>\n",
       "      <td>0.79733</td>\n",
       "      <td>II</td>\n",
       "      <td>Infiltrating Ductal Carcinoma</td>\n",
       "      <td>Negative</td>\n",
       "      <td>Other</td>\n",
       "      <td>Alive</td>\n",
       "      <td>&lt;NA&gt;</td>\n",
       "    </tr>\n",
       "  </tbody>\n",
       "</table>\n",
       "</div>"
      ],
      "text/plain": [
       "     Age  Gender  Protein1  Protein2  Protein3  Protein4 Tumour_Stage  \\\n",
       "321   50  FEMALE  0.672490   1.27900 -0.321070  -0.11239          III   \n",
       "322   55  FEMALE  0.330640   0.84757 -0.494660   0.11656            I   \n",
       "323   60  FEMALE  0.532420   1.54110 -1.009500  -0.12588            I   \n",
       "324   44  FEMALE -0.278840   2.16880 -0.462330   0.27220           II   \n",
       "325   40  FEMALE -1.455300  -0.74177  1.133600  -0.83970          III   \n",
       "326   46  FEMALE -0.010999   0.86749  0.281570  -0.54588           II   \n",
       "327   71  FEMALE  0.394090   1.70540  0.035642   1.44100           II   \n",
       "328   62  FEMALE  0.649340   1.81680  0.279260   0.13228           II   \n",
       "329   50  FEMALE -0.322890   0.98848 -0.293130  -0.26170           II   \n",
       "330   88  FEMALE -2.340900   0.37246  0.208450  -1.64110            I   \n",
       "331   80  FEMALE  0.670770  -0.71039  0.186480   0.14664           II   \n",
       "332   56  FEMALE -0.675420   0.26937 -0.086603   1.07140          III   \n",
       "333   67  FEMALE  0.317420  -0.55585  0.356570   0.79733           II   \n",
       "\n",
       "                          Histology HER2 status                 Surgery_type  \\\n",
       "321   Infiltrating Ductal Carcinoma    Negative            Simple Mastectomy   \n",
       "322  Infiltrating Lobular Carcinoma    Negative  Modified Radical Mastectomy   \n",
       "323   Infiltrating Ductal Carcinoma    Negative                        Other   \n",
       "324   Infiltrating Ductal Carcinoma    Negative  Modified Radical Mastectomy   \n",
       "325  Infiltrating Lobular Carcinoma    Negative                        Other   \n",
       "326  Infiltrating Lobular Carcinoma    Negative                        Other   \n",
       "327  Infiltrating Lobular Carcinoma    Negative  Modified Radical Mastectomy   \n",
       "328  Infiltrating Lobular Carcinoma    Negative                        Other   \n",
       "329   Infiltrating Ductal Carcinoma    Negative                        Other   \n",
       "330   Infiltrating Ductal Carcinoma    Negative            Simple Mastectomy   \n",
       "331  Infiltrating Lobular Carcinoma    Negative                        Other   \n",
       "332   Infiltrating Ductal Carcinoma    Negative  Modified Radical Mastectomy   \n",
       "333   Infiltrating Ductal Carcinoma    Negative                        Other   \n",
       "\n",
       "    Patient_Status  date_diff  \n",
       "321          Alive       <NA>  \n",
       "322          Alive       <NA>  \n",
       "323          Alive       <NA>  \n",
       "324          Alive       <NA>  \n",
       "325          Alive       <NA>  \n",
       "326          Alive       <NA>  \n",
       "327          Alive       <NA>  \n",
       "328          Alive       <NA>  \n",
       "329          Alive       <NA>  \n",
       "330          Alive       <NA>  \n",
       "331          Alive       <NA>  \n",
       "332          Alive       <NA>  \n",
       "333          Alive       <NA>  "
      ]
     },
     "execution_count": 197,
     "metadata": {},
     "output_type": "execute_result"
    }
   ],
   "source": [
    "# print the missing records\n",
    "final_df[final_df.date_diff.isna()]"
   ]
  },
  {
   "attachments": {},
   "cell_type": "markdown",
   "metadata": {},
   "source": [
    "It would seem that the Patient_Status is Alive where the date_diff has missing values."
   ]
  },
  {
   "cell_type": "code",
   "execution_count": 198,
   "metadata": {},
   "outputs": [
    {
     "name": "stdout",
     "output_type": "stream",
     "text": [
      "There are 0 missing values in the dataset.\n"
     ]
    }
   ],
   "source": [
    "# get the median values of date_diff by Patient_Status and impute them\n",
    "impute_val = final_df.groupby(\"Patient_Status\").date_diff.agg(\"median\").Alive\n",
    "\n",
    "final_df.loc[final_df.date_diff.isna(), \"date_diff\"] = impute_val\n",
    "\n",
    "print(f\"There are {final_df.isna().sum().sum()} missing values in the dataset.\")"
   ]
  },
  {
   "cell_type": "code",
   "execution_count": 199,
   "metadata": {},
   "outputs": [
    {
     "data": {
      "text/html": [
       "<div>\n",
       "<style scoped>\n",
       "    .dataframe tbody tr th:only-of-type {\n",
       "        vertical-align: middle;\n",
       "    }\n",
       "\n",
       "    .dataframe tbody tr th {\n",
       "        vertical-align: top;\n",
       "    }\n",
       "\n",
       "    .dataframe thead th {\n",
       "        text-align: right;\n",
       "    }\n",
       "</style>\n",
       "<table border=\"1\" class=\"dataframe\">\n",
       "  <thead>\n",
       "    <tr style=\"text-align: right;\">\n",
       "      <th></th>\n",
       "      <th>Patient_Status</th>\n",
       "    </tr>\n",
       "  </thead>\n",
       "  <tbody>\n",
       "    <tr>\n",
       "      <th>Alive</th>\n",
       "      <td>0.802395</td>\n",
       "    </tr>\n",
       "    <tr>\n",
       "      <th>Dead</th>\n",
       "      <td>0.197605</td>\n",
       "    </tr>\n",
       "  </tbody>\n",
       "</table>\n",
       "</div>"
      ],
      "text/plain": [
       "       Patient_Status\n",
       "Alive        0.802395\n",
       "Dead         0.197605"
      ]
     },
     "execution_count": 199,
     "metadata": {},
     "output_type": "execute_result"
    }
   ],
   "source": [
    "# `Patient_Status` proportions after imputations\n",
    "final_df.Patient_Status.value_counts(normalize=True).to_frame()"
   ]
  },
  {
   "cell_type": "code",
   "execution_count": 200,
   "metadata": {},
   "outputs": [
    {
     "data": {
      "application/vnd.plotly.v1+json": {
       "config": {
        "plotlyServerURL": "https://plot.ly"
       },
       "data": [
        {
         "alignmentgroup": "True",
         "legendgroup": "Alive",
         "marker": {
          "color": "#636efa",
          "pattern": {
           "shape": ""
          }
         },
         "name": "Alive",
         "offsetgroup": "Alive",
         "orientation": "v",
         "showlegend": true,
         "textposition": "auto",
         "type": "bar",
         "x": [
          "No Imputations",
          "With Imputations"
         ],
         "xaxis": "x",
         "y": [
          0.794392523364486,
          0.8023952095808383
         ],
         "yaxis": "y"
        },
        {
         "alignmentgroup": "True",
         "legendgroup": "Dead",
         "marker": {
          "color": "#EF553B",
          "pattern": {
           "shape": ""
          }
         },
         "name": "Dead",
         "offsetgroup": "Dead",
         "orientation": "v",
         "showlegend": true,
         "textposition": "auto",
         "type": "bar",
         "x": [
          "No Imputations",
          "With Imputations"
         ],
         "xaxis": "x",
         "y": [
          0.205607476635514,
          0.19760479041916168
         ],
         "yaxis": "y"
        }
       ],
       "layout": {
        "barmode": "relative",
        "height": 400,
        "hovermode": "x",
        "legend": {
         "title": {
          "text": "Class"
         },
         "tracegroupgap": 0
        },
        "margin": {
         "t": 60
        },
        "template": {
         "data": {
          "bar": [
           {
            "error_x": {
             "color": "#2a3f5f"
            },
            "error_y": {
             "color": "#2a3f5f"
            },
            "marker": {
             "line": {
              "color": "#E5ECF6",
              "width": 0.5
             },
             "pattern": {
              "fillmode": "overlay",
              "size": 10,
              "solidity": 0.2
             }
            },
            "type": "bar"
           }
          ],
          "barpolar": [
           {
            "marker": {
             "line": {
              "color": "#E5ECF6",
              "width": 0.5
             },
             "pattern": {
              "fillmode": "overlay",
              "size": 10,
              "solidity": 0.2
             }
            },
            "type": "barpolar"
           }
          ],
          "carpet": [
           {
            "aaxis": {
             "endlinecolor": "#2a3f5f",
             "gridcolor": "white",
             "linecolor": "white",
             "minorgridcolor": "white",
             "startlinecolor": "#2a3f5f"
            },
            "baxis": {
             "endlinecolor": "#2a3f5f",
             "gridcolor": "white",
             "linecolor": "white",
             "minorgridcolor": "white",
             "startlinecolor": "#2a3f5f"
            },
            "type": "carpet"
           }
          ],
          "choropleth": [
           {
            "colorbar": {
             "outlinewidth": 0,
             "ticks": ""
            },
            "type": "choropleth"
           }
          ],
          "contour": [
           {
            "colorbar": {
             "outlinewidth": 0,
             "ticks": ""
            },
            "colorscale": [
             [
              0,
              "#0d0887"
             ],
             [
              0.1111111111111111,
              "#46039f"
             ],
             [
              0.2222222222222222,
              "#7201a8"
             ],
             [
              0.3333333333333333,
              "#9c179e"
             ],
             [
              0.4444444444444444,
              "#bd3786"
             ],
             [
              0.5555555555555556,
              "#d8576b"
             ],
             [
              0.6666666666666666,
              "#ed7953"
             ],
             [
              0.7777777777777778,
              "#fb9f3a"
             ],
             [
              0.8888888888888888,
              "#fdca26"
             ],
             [
              1,
              "#f0f921"
             ]
            ],
            "type": "contour"
           }
          ],
          "contourcarpet": [
           {
            "colorbar": {
             "outlinewidth": 0,
             "ticks": ""
            },
            "type": "contourcarpet"
           }
          ],
          "heatmap": [
           {
            "colorbar": {
             "outlinewidth": 0,
             "ticks": ""
            },
            "colorscale": [
             [
              0,
              "#0d0887"
             ],
             [
              0.1111111111111111,
              "#46039f"
             ],
             [
              0.2222222222222222,
              "#7201a8"
             ],
             [
              0.3333333333333333,
              "#9c179e"
             ],
             [
              0.4444444444444444,
              "#bd3786"
             ],
             [
              0.5555555555555556,
              "#d8576b"
             ],
             [
              0.6666666666666666,
              "#ed7953"
             ],
             [
              0.7777777777777778,
              "#fb9f3a"
             ],
             [
              0.8888888888888888,
              "#fdca26"
             ],
             [
              1,
              "#f0f921"
             ]
            ],
            "type": "heatmap"
           }
          ],
          "heatmapgl": [
           {
            "colorbar": {
             "outlinewidth": 0,
             "ticks": ""
            },
            "colorscale": [
             [
              0,
              "#0d0887"
             ],
             [
              0.1111111111111111,
              "#46039f"
             ],
             [
              0.2222222222222222,
              "#7201a8"
             ],
             [
              0.3333333333333333,
              "#9c179e"
             ],
             [
              0.4444444444444444,
              "#bd3786"
             ],
             [
              0.5555555555555556,
              "#d8576b"
             ],
             [
              0.6666666666666666,
              "#ed7953"
             ],
             [
              0.7777777777777778,
              "#fb9f3a"
             ],
             [
              0.8888888888888888,
              "#fdca26"
             ],
             [
              1,
              "#f0f921"
             ]
            ],
            "type": "heatmapgl"
           }
          ],
          "histogram": [
           {
            "marker": {
             "pattern": {
              "fillmode": "overlay",
              "size": 10,
              "solidity": 0.2
             }
            },
            "type": "histogram"
           }
          ],
          "histogram2d": [
           {
            "colorbar": {
             "outlinewidth": 0,
             "ticks": ""
            },
            "colorscale": [
             [
              0,
              "#0d0887"
             ],
             [
              0.1111111111111111,
              "#46039f"
             ],
             [
              0.2222222222222222,
              "#7201a8"
             ],
             [
              0.3333333333333333,
              "#9c179e"
             ],
             [
              0.4444444444444444,
              "#bd3786"
             ],
             [
              0.5555555555555556,
              "#d8576b"
             ],
             [
              0.6666666666666666,
              "#ed7953"
             ],
             [
              0.7777777777777778,
              "#fb9f3a"
             ],
             [
              0.8888888888888888,
              "#fdca26"
             ],
             [
              1,
              "#f0f921"
             ]
            ],
            "type": "histogram2d"
           }
          ],
          "histogram2dcontour": [
           {
            "colorbar": {
             "outlinewidth": 0,
             "ticks": ""
            },
            "colorscale": [
             [
              0,
              "#0d0887"
             ],
             [
              0.1111111111111111,
              "#46039f"
             ],
             [
              0.2222222222222222,
              "#7201a8"
             ],
             [
              0.3333333333333333,
              "#9c179e"
             ],
             [
              0.4444444444444444,
              "#bd3786"
             ],
             [
              0.5555555555555556,
              "#d8576b"
             ],
             [
              0.6666666666666666,
              "#ed7953"
             ],
             [
              0.7777777777777778,
              "#fb9f3a"
             ],
             [
              0.8888888888888888,
              "#fdca26"
             ],
             [
              1,
              "#f0f921"
             ]
            ],
            "type": "histogram2dcontour"
           }
          ],
          "mesh3d": [
           {
            "colorbar": {
             "outlinewidth": 0,
             "ticks": ""
            },
            "type": "mesh3d"
           }
          ],
          "parcoords": [
           {
            "line": {
             "colorbar": {
              "outlinewidth": 0,
              "ticks": ""
             }
            },
            "type": "parcoords"
           }
          ],
          "pie": [
           {
            "automargin": true,
            "type": "pie"
           }
          ],
          "scatter": [
           {
            "marker": {
             "colorbar": {
              "outlinewidth": 0,
              "ticks": ""
             }
            },
            "type": "scatter"
           }
          ],
          "scatter3d": [
           {
            "line": {
             "colorbar": {
              "outlinewidth": 0,
              "ticks": ""
             }
            },
            "marker": {
             "colorbar": {
              "outlinewidth": 0,
              "ticks": ""
             }
            },
            "type": "scatter3d"
           }
          ],
          "scattercarpet": [
           {
            "marker": {
             "colorbar": {
              "outlinewidth": 0,
              "ticks": ""
             }
            },
            "type": "scattercarpet"
           }
          ],
          "scattergeo": [
           {
            "marker": {
             "colorbar": {
              "outlinewidth": 0,
              "ticks": ""
             }
            },
            "type": "scattergeo"
           }
          ],
          "scattergl": [
           {
            "marker": {
             "colorbar": {
              "outlinewidth": 0,
              "ticks": ""
             }
            },
            "type": "scattergl"
           }
          ],
          "scattermapbox": [
           {
            "marker": {
             "colorbar": {
              "outlinewidth": 0,
              "ticks": ""
             }
            },
            "type": "scattermapbox"
           }
          ],
          "scatterpolar": [
           {
            "marker": {
             "colorbar": {
              "outlinewidth": 0,
              "ticks": ""
             }
            },
            "type": "scatterpolar"
           }
          ],
          "scatterpolargl": [
           {
            "marker": {
             "colorbar": {
              "outlinewidth": 0,
              "ticks": ""
             }
            },
            "type": "scatterpolargl"
           }
          ],
          "scatterternary": [
           {
            "marker": {
             "colorbar": {
              "outlinewidth": 0,
              "ticks": ""
             }
            },
            "type": "scatterternary"
           }
          ],
          "surface": [
           {
            "colorbar": {
             "outlinewidth": 0,
             "ticks": ""
            },
            "colorscale": [
             [
              0,
              "#0d0887"
             ],
             [
              0.1111111111111111,
              "#46039f"
             ],
             [
              0.2222222222222222,
              "#7201a8"
             ],
             [
              0.3333333333333333,
              "#9c179e"
             ],
             [
              0.4444444444444444,
              "#bd3786"
             ],
             [
              0.5555555555555556,
              "#d8576b"
             ],
             [
              0.6666666666666666,
              "#ed7953"
             ],
             [
              0.7777777777777778,
              "#fb9f3a"
             ],
             [
              0.8888888888888888,
              "#fdca26"
             ],
             [
              1,
              "#f0f921"
             ]
            ],
            "type": "surface"
           }
          ],
          "table": [
           {
            "cells": {
             "fill": {
              "color": "#EBF0F8"
             },
             "line": {
              "color": "white"
             }
            },
            "header": {
             "fill": {
              "color": "#C8D4E3"
             },
             "line": {
              "color": "white"
             }
            },
            "type": "table"
           }
          ]
         },
         "layout": {
          "annotationdefaults": {
           "arrowcolor": "#2a3f5f",
           "arrowhead": 0,
           "arrowwidth": 1
          },
          "autotypenumbers": "strict",
          "coloraxis": {
           "colorbar": {
            "outlinewidth": 0,
            "ticks": ""
           }
          },
          "colorscale": {
           "diverging": [
            [
             0,
             "#8e0152"
            ],
            [
             0.1,
             "#c51b7d"
            ],
            [
             0.2,
             "#de77ae"
            ],
            [
             0.3,
             "#f1b6da"
            ],
            [
             0.4,
             "#fde0ef"
            ],
            [
             0.5,
             "#f7f7f7"
            ],
            [
             0.6,
             "#e6f5d0"
            ],
            [
             0.7,
             "#b8e186"
            ],
            [
             0.8,
             "#7fbc41"
            ],
            [
             0.9,
             "#4d9221"
            ],
            [
             1,
             "#276419"
            ]
           ],
           "sequential": [
            [
             0,
             "#0d0887"
            ],
            [
             0.1111111111111111,
             "#46039f"
            ],
            [
             0.2222222222222222,
             "#7201a8"
            ],
            [
             0.3333333333333333,
             "#9c179e"
            ],
            [
             0.4444444444444444,
             "#bd3786"
            ],
            [
             0.5555555555555556,
             "#d8576b"
            ],
            [
             0.6666666666666666,
             "#ed7953"
            ],
            [
             0.7777777777777778,
             "#fb9f3a"
            ],
            [
             0.8888888888888888,
             "#fdca26"
            ],
            [
             1,
             "#f0f921"
            ]
           ],
           "sequentialminus": [
            [
             0,
             "#0d0887"
            ],
            [
             0.1111111111111111,
             "#46039f"
            ],
            [
             0.2222222222222222,
             "#7201a8"
            ],
            [
             0.3333333333333333,
             "#9c179e"
            ],
            [
             0.4444444444444444,
             "#bd3786"
            ],
            [
             0.5555555555555556,
             "#d8576b"
            ],
            [
             0.6666666666666666,
             "#ed7953"
            ],
            [
             0.7777777777777778,
             "#fb9f3a"
            ],
            [
             0.8888888888888888,
             "#fdca26"
            ],
            [
             1,
             "#f0f921"
            ]
           ]
          },
          "colorway": [
           "#636efa",
           "#EF553B",
           "#00cc96",
           "#ab63fa",
           "#FFA15A",
           "#19d3f3",
           "#FF6692",
           "#B6E880",
           "#FF97FF",
           "#FECB52"
          ],
          "font": {
           "color": "#2a3f5f"
          },
          "geo": {
           "bgcolor": "white",
           "lakecolor": "white",
           "landcolor": "#E5ECF6",
           "showlakes": true,
           "showland": true,
           "subunitcolor": "white"
          },
          "hoverlabel": {
           "align": "left"
          },
          "hovermode": "closest",
          "mapbox": {
           "style": "light"
          },
          "paper_bgcolor": "white",
          "plot_bgcolor": "#E5ECF6",
          "polar": {
           "angularaxis": {
            "gridcolor": "white",
            "linecolor": "white",
            "ticks": ""
           },
           "bgcolor": "#E5ECF6",
           "radialaxis": {
            "gridcolor": "white",
            "linecolor": "white",
            "ticks": ""
           }
          },
          "scene": {
           "xaxis": {
            "backgroundcolor": "#E5ECF6",
            "gridcolor": "white",
            "gridwidth": 2,
            "linecolor": "white",
            "showbackground": true,
            "ticks": "",
            "zerolinecolor": "white"
           },
           "yaxis": {
            "backgroundcolor": "#E5ECF6",
            "gridcolor": "white",
            "gridwidth": 2,
            "linecolor": "white",
            "showbackground": true,
            "ticks": "",
            "zerolinecolor": "white"
           },
           "zaxis": {
            "backgroundcolor": "#E5ECF6",
            "gridcolor": "white",
            "gridwidth": 2,
            "linecolor": "white",
            "showbackground": true,
            "ticks": "",
            "zerolinecolor": "white"
           }
          },
          "shapedefaults": {
           "line": {
            "color": "#2a3f5f"
           }
          },
          "ternary": {
           "aaxis": {
            "gridcolor": "white",
            "linecolor": "white",
            "ticks": ""
           },
           "baxis": {
            "gridcolor": "white",
            "linecolor": "white",
            "ticks": ""
           },
           "bgcolor": "#E5ECF6",
           "caxis": {
            "gridcolor": "white",
            "linecolor": "white",
            "ticks": ""
           }
          },
          "title": {
           "x": 0.05
          },
          "xaxis": {
           "automargin": true,
           "gridcolor": "white",
           "linecolor": "white",
           "ticks": "",
           "title": {
            "standoff": 15
           },
           "zerolinecolor": "white",
           "zerolinewidth": 2
          },
          "yaxis": {
           "automargin": true,
           "gridcolor": "white",
           "linecolor": "white",
           "ticks": "",
           "title": {
            "standoff": 15
           },
           "zerolinecolor": "white",
           "zerolinewidth": 2
          }
         }
        },
        "title": {
         "font": {
          "color": "#000000",
          "size": 14
         },
         "text": "<b>Patient-Status before and after Imputations</b>",
         "x": 0.5,
         "y": 0.95
        },
        "width": 400,
        "xaxis": {
         "anchor": "y",
         "domain": [
          0,
          1
         ],
         "title": {
          "font": {
           "size": 13
          },
          "text": "<b>Patient Status</b>"
         }
        },
        "yaxis": {
         "anchor": "x",
         "domain": [
          0,
          1
         ],
         "title": {
          "font": {
           "size": 13
          },
          "text": "<b>Proportions</b>"
         }
        }
       }
      }
     },
     "metadata": {},
     "output_type": "display_data"
    }
   ],
   "source": [
    "# visualize the `Patient_Status` proportions before and after imputations\n",
    "props_df = pd.concat([df.Patient_Status.value_counts(normalize=True).to_frame(), final_df.Patient_Status.value_counts(normalize=True).to_frame()], axis=1)\n",
    "props_df.columns = [\"No Imputations\", \"With Imputations\"]\n",
    "\n",
    "fig = px.bar(\n",
    "    data_frame=props_df.T,\n",
    "    width=400,\n",
    "    height=400,\n",
    ")\n",
    "\n",
    "fig.update_layout(xaxis_title=dict(text='<b>'\"Patient Status\"'</b>',\n",
    "                                   font=dict(\n",
    "                                   size=13)),\n",
    "                  yaxis_title=dict(text='<b>'\"Proportions\"'</b>',\n",
    "                                   font=dict(\n",
    "                                   size=13)),\n",
    "                  legend_title_text=\"Class\",\n",
    "                  title=dict(text='<b>Patient-Status before and after Imputations</b>',\n",
    "                             x=0.5,\n",
    "                             y=0.95,\n",
    "                             font=dict(\n",
    "                                size=14,\n",
    "                                color='#000000'\n",
    "                             )),\n",
    "                  hovermode=\"x\"\n",
    ")\n",
    "\n",
    "fig.update_traces(hovertemplate=None)\n",
    "\n",
    "fig.show()"
   ]
  },
  {
   "attachments": {},
   "cell_type": "markdown",
   "metadata": {},
   "source": [
    "# Testing"
   ]
  },
  {
   "attachments": {},
   "cell_type": "markdown",
   "metadata": {},
   "source": [
    "- Tumour Stages dependency on HER2-Status"
   ]
  },
  {
   "cell_type": "code",
   "execution_count": 201,
   "metadata": {},
   "outputs": [
    {
     "data": {
      "text/html": [
       "<div>\n",
       "<style scoped>\n",
       "    .dataframe tbody tr th:only-of-type {\n",
       "        vertical-align: middle;\n",
       "    }\n",
       "\n",
       "    .dataframe tbody tr th {\n",
       "        vertical-align: top;\n",
       "    }\n",
       "\n",
       "    .dataframe thead th {\n",
       "        text-align: right;\n",
       "    }\n",
       "</style>\n",
       "<table border=\"1\" class=\"dataframe\">\n",
       "  <thead>\n",
       "    <tr style=\"text-align: right;\">\n",
       "      <th>HER2 status</th>\n",
       "      <th>Negative</th>\n",
       "      <th>Positive</th>\n",
       "    </tr>\n",
       "    <tr>\n",
       "      <th>Tumour_Stage</th>\n",
       "      <th></th>\n",
       "      <th></th>\n",
       "    </tr>\n",
       "  </thead>\n",
       "  <tbody>\n",
       "    <tr>\n",
       "      <th>I</th>\n",
       "      <td>0.953125</td>\n",
       "      <td>0.046875</td>\n",
       "    </tr>\n",
       "    <tr>\n",
       "      <th>II</th>\n",
       "      <td>0.931217</td>\n",
       "      <td>0.068783</td>\n",
       "    </tr>\n",
       "    <tr>\n",
       "      <th>III</th>\n",
       "      <td>0.839506</td>\n",
       "      <td>0.160494</td>\n",
       "    </tr>\n",
       "  </tbody>\n",
       "</table>\n",
       "</div>"
      ],
      "text/plain": [
       "HER2 status   Negative  Positive\n",
       "Tumour_Stage                    \n",
       "I             0.953125  0.046875\n",
       "II            0.931217  0.068783\n",
       "III           0.839506  0.160494"
      ]
     },
     "execution_count": 201,
     "metadata": {},
     "output_type": "execute_result"
    }
   ],
   "source": [
    "# `Tumour Stages` by `HER status` Proportions\n",
    "final_df.groupby(\"Tumour_Stage\")[\"HER2 status\"].value_counts(normalize=True).unstack()"
   ]
  },
  {
   "cell_type": "code",
   "execution_count": 203,
   "metadata": {},
   "outputs": [
    {
     "data": {
      "text/plain": [
       "<matplotlib.legend.Legend at 0x1fd6d42f6d0>"
      ]
     },
     "execution_count": 203,
     "metadata": {},
     "output_type": "execute_result"
    },
    {
     "data": {
      "image/png": "[encoded data removed]",
      "text/plain": [
       "<Figure size 432x288 with 1 Axes>"
      ]
     },
     "metadata": {},
     "output_type": "display_data"
    }
   ],
   "source": [
    "# visualize `Tumour Stages` by `HER status` Proportions\n",
    "sns.set_style(\"dark\")\n",
    "final_df.groupby(\"Tumour_Stage\")[\"HER2 status\"].value_counts(normalize=True).unstack()\\\n",
    "                        .plot.bar(stacked=True,\n",
    "                                  xlabel=\"Tumour Stage\",\n",
    "                                  ylabel=\"Proportions\",\n",
    "                                  title=\"Tumour Stages by HER2-Status Proportions\",\n",
    "                                  figsize=(6, 4))\n",
    "plt.xticks(rotation=0)\n",
    "plt.legend(bbox_to_anchor=(1.01, 1.03))"
   ]
  },
  {
   "attachments": {},
   "cell_type": "markdown",
   "metadata": {},
   "source": [
    "We can observe that Tumour Stages advances as more the HER2 status turns positive."
   ]
  },
  {
   "cell_type": "code",
   "execution_count": 204,
   "metadata": {},
   "outputs": [
    {
     "name": "stdout",
     "output_type": "stream",
     "text": [
      "Since, p-value=0.01\n",
      "\n",
      "We reject the Null Hypothesis Ho.\n"
     ]
    }
   ],
   "source": [
    "# perform proportions-ztest\n",
    "alpha = 0.05\n",
    "n_ps_1 = [13, 13]\n",
    "n_row_1 = [13+176, 13+68]\n",
    "\n",
    "stat, p_val = proportions_ztest(count=n_ps_1,\n",
    "                                nobs=n_row_1,\n",
    "                                alternative=\"smaller\")\n",
    "if p_val <= alpha:\n",
    "    print(f\"Since, p-value={p_val:.2f}\\n\\nWe reject the Null Hypothesis Ho.\")\n",
    "else:\n",
    "    print(f\"We fail to reject the Null Hypothesis Ho as the p-value {p_val:.2f} is larger than {alpha}.\")"
   ]
  },
  {
   "attachments": {},
   "cell_type": "markdown",
   "metadata": {},
   "source": [
    "- Relationship between Histology and HER2-Status"
   ]
  },
  {
   "cell_type": "code",
   "execution_count": 205,
   "metadata": {},
   "outputs": [
    {
     "data": {
      "text/plain": [
       "(array([0, 1]), [Text(0, 0, 'Negative'), Text(1, 0, 'Positive')])"
      ]
     },
     "execution_count": 205,
     "metadata": {},
     "output_type": "execute_result"
    },
    {
     "data": {
      "image/png": "[encoded data removed]",
      "text/plain": [
       "<Figure size 432x288 with 1 Axes>"
      ]
     },
     "metadata": {},
     "output_type": "display_data"
    }
   ],
   "source": [
    "# relationship between Histology and HER2-Status\n",
    "final_df.groupby(\"HER2 status\").Histology.value_counts(normalize=True).unstack().plot.bar(stacked=True, figsize=(6, 4), ylabel=\"Proportions\")\n",
    "plt.legend(bbox_to_anchor=(1.01, 0.7))\n",
    "plt.title(\"Relationship between Histology and HER2-Status\")\n",
    "plt.xticks(rotation=0)"
   ]
  },
  {
   "attachments": {},
   "cell_type": "markdown",
   "metadata": {},
   "source": [
    "Null Hypothesis Ho: There is no relationhip between HER2 Status and Histology.\n",
    "\n",
    "Alternative Hypothesis H1: There is a relationhip between HER2 Status and Histology.\n",
    "\n",
    "Statistical Significance α : 0.05"
   ]
  },
  {
   "cell_type": "code",
   "execution_count": 206,
   "metadata": {},
   "outputs": [
    {
     "name": "stdout",
     "output_type": "stream",
     "text": [
      "       pval     power\n",
      "0  0.947003  0.058265\n",
      "\n",
      "We fail to reject the Null Hypothesis Ho as the p-value 0.95 is larger than 0.05.\n"
     ]
    }
   ],
   "source": [
    "# perform the chi-squared test of indpendence to conclude the results\n",
    "alpha = 0.05\n",
    "\n",
    "_, _, stats = pgn.chi2_independence(data=final_df,\n",
    "                                    x=\"Histology\",\n",
    "                                    y=\"HER2 status\")\n",
    "\n",
    "print(stats[stats[\"test\"].isin([\"pearson\"])][[\"pval\", \"power\"]])\n",
    "\n",
    "p_val = stats[stats[\"test\"].isin([\"pearson\"])].pval.values\n",
    "\n",
    "if p_val <= alpha:\n",
    "    print(f\"\\nWe reject the Null Hypothesis Ho and can say that there is no relationhip between *HER2 Status* and *Histology*.\")\n",
    "else:\n",
    "    print(f\"\\nWe fail to reject the Null Hypothesis Ho as the p-value {p_val[0]:.2f} is larger than {alpha}.\")"
   ]
  },
  {
   "attachments": {},
   "cell_type": "markdown",
   "metadata": {},
   "source": [
    "- Effect of Proteins on the Patient's survival by Tumour Stage"
   ]
  },
  {
   "cell_type": "code",
   "execution_count": 207,
   "metadata": {},
   "outputs": [
    {
     "data": {
      "image/png": "[encoded data removed]",
      "text/plain": [
       "<Figure size 1440x360 with 4 Axes>"
      ]
     },
     "metadata": {},
     "output_type": "display_data"
    }
   ],
   "source": [
    "# relationship between `Proteins` and `Tumour Stage` by `Patient Status`\n",
    "sns.set_context(\"talk\")\n",
    "\n",
    "fig, ax = plt.subplots(1, 4, figsize=(20, 5), sharex=True, sharey=True)\n",
    "ax = ax.flatten()\n",
    "plot=0\n",
    "\n",
    "for row in [\"Protein1\", \"Protein2\", \"Protein3\", \"Protein4\"]:\n",
    "    sns.boxplot(data=final_df.sort_values(\"Tumour_Stage\"), x='Patient_Status', y=f\"{row}\", hue=\"Tumour_Stage\", ax=ax[plot], sym=\"\")\n",
    "    ax[plot].set_title(f\"{row} by `Tumour Stages`\")\n",
    "    plot+=1\n",
    "\n",
    "for i in range(plot-1):\n",
    "    ax[i].get_legend().remove()\n",
    "\n",
    "ax[plot-1].legend(bbox_to_anchor=(0.5, 1.47))\n",
    "fig.suptitle(\"Relationship between `Proteins`[0-4] and `Patient Status` by `Tumour Stage`\", y=1.2, fontsize=20);\n",
    "plt.show()"
   ]
  },
  {
   "attachments": {},
   "cell_type": "markdown",
   "metadata": {},
   "source": [
    "Null Hypothesis Ho: Patients with Tumour Stage-III that are alive had same Protein4 distribution as that of the Alive Patients with Tumour Stage-II and Tumour Stage-I.\n",
    "\n",
    "Alternative Hypothesis H1: Patients with Tumour Stage-III that are Alive had different Protein4 distribtutions than the Alive Patients with Tumour Stage-II and Tumour Stage-I.\n",
    "\n",
    "α : 0.05"
   ]
  },
  {
   "cell_type": "code",
   "execution_count": 217,
   "metadata": {},
   "outputs": [
    {
     "data": {
      "image/png": "[encoded data removed]",
      "text/plain": [
       "<Figure size 432x288 with 1 Axes>"
      ]
     },
     "metadata": {},
     "output_type": "display_data"
    },
    {
     "name": "stdout",
     "output_type": "stream",
     "text": [
      "The three distributions are normal: False, False, False\n",
      "The number of observations for the three respective distributions are: 54, 151, 63\n"
     ]
    }
   ],
   "source": [
    "# get the distributions\n",
    "sns.histplot(final_df[final_df.Patient_Status.isin([\"Alive\"])].sort_values(\"Tumour_Stage\"), x=\"Protein4\", hue=\"Tumour_Stage\", kde=True)\n",
    "plt.title(\"Distribution of Potein4 for Alive Patients by Tumour_Stage\")\n",
    "plt.show()\n",
    "\n",
    "first_dist = final_df[(final_df.Patient_Status==\"Alive\") & (final_df.Tumour_Stage==\"I\")].Protein4\n",
    "second_dist = final_df[(final_df.Patient_Status==\"Alive\") & (final_df.Tumour_Stage==\"II\")].Protein4\n",
    "third_dist = final_df[(final_df.Patient_Status==\"Alive\") & (final_df.Tumour_Stage==\"III\")].Protein4\n",
    "\n",
    "norm_1 = st.shapiro(first_dist.values)[1] < 0.05\n",
    "norm_2 = st.shapiro(second_dist.values)[1] < 0.05\n",
    "norm_3 = st.shapiro(third_dist.values)[1] < 0.05\n",
    "\n",
    "print(f\"The three distributions are normal: {norm_1}, {norm_2}, {norm_3}\")\n",
    "print(f\"The number of observations for the three respective distributions are: {first_dist.shape[0]}, {second_dist.shape[0]}, {third_dist.shape[0]}\")"
   ]
  },
  {
   "cell_type": "code",
   "execution_count": 210,
   "metadata": {},
   "outputs": [
    {
     "name": "stdout",
     "output_type": "stream",
     "text": [
      "We need about 746 of observations to perform hypothesis testing which is quite large than the majority class `Alive`.\n"
     ]
    }
   ],
   "source": [
    "# power analysis for `sample size`\n",
    "analysis = pwr.TTestIndPower()\n",
    "\n",
    "result = analysis.solve_power(\n",
    "                        effect_size=0.2, # need a smaller effect size considering the cdf plotted above\n",
    "                        power=0.8, # (0, 1) greater the power lower the risk of getting Type-II error\n",
    "                        alpha=0.05, # statistical significance\n",
    "                        ratio=54/151, # sample size ratio of: Proteins4 of Alive Patients (Tumour-Stage I) / Proteins1 of Alive Patients (Tumour-Stage II)\n",
    "                        nobs1=None # number of observations that we are going to find out for this use-case\n",
    "                        )\n",
    "\n",
    "print(f\"We need about {result:.0f} of observations to perform hypothesis testing which is quite large than the majority class `Alive`.\")"
   ]
  },
  {
   "attachments": {},
   "cell_type": "markdown",
   "metadata": {},
   "source": [
    "- Surgeries performed on Patients by Tumour Stages"
   ]
  },
  {
   "cell_type": "code",
   "execution_count": 211,
   "metadata": {},
   "outputs": [
    {
     "data": {
      "text/html": [
       "<div>\n",
       "<style scoped>\n",
       "    .dataframe tbody tr th:only-of-type {\n",
       "        vertical-align: middle;\n",
       "    }\n",
       "\n",
       "    .dataframe tbody tr th {\n",
       "        vertical-align: top;\n",
       "    }\n",
       "\n",
       "    .dataframe thead th {\n",
       "        text-align: right;\n",
       "    }\n",
       "</style>\n",
       "<table border=\"1\" class=\"dataframe\">\n",
       "  <thead>\n",
       "    <tr style=\"text-align: right;\">\n",
       "      <th></th>\n",
       "      <th>Age</th>\n",
       "      <th>Gender</th>\n",
       "      <th>Protein1</th>\n",
       "      <th>Protein2</th>\n",
       "      <th>Protein3</th>\n",
       "      <th>Protein4</th>\n",
       "      <th>Tumour_Stage</th>\n",
       "      <th>Histology</th>\n",
       "      <th>HER2 status</th>\n",
       "      <th>Surgery_type</th>\n",
       "      <th>Patient_Status</th>\n",
       "      <th>date_diff</th>\n",
       "    </tr>\n",
       "  </thead>\n",
       "  <tbody>\n",
       "    <tr>\n",
       "      <th>0</th>\n",
       "      <td>36</td>\n",
       "      <td>FEMALE</td>\n",
       "      <td>0.080353</td>\n",
       "      <td>0.42638</td>\n",
       "      <td>0.54715</td>\n",
       "      <td>0.27368</td>\n",
       "      <td>III</td>\n",
       "      <td>Infiltrating Ductal Carcinoma</td>\n",
       "      <td>Negative</td>\n",
       "      <td>Modified Radical Mastectomy</td>\n",
       "      <td>Alive</td>\n",
       "      <td>155</td>\n",
       "    </tr>\n",
       "    <tr>\n",
       "      <th>1</th>\n",
       "      <td>77</td>\n",
       "      <td>FEMALE</td>\n",
       "      <td>0.477710</td>\n",
       "      <td>0.81881</td>\n",
       "      <td>-0.40630</td>\n",
       "      <td>-0.65479</td>\n",
       "      <td>I</td>\n",
       "      <td>Infiltrating Lobular Carcinoma</td>\n",
       "      <td>Negative</td>\n",
       "      <td>Lumpectomy</td>\n",
       "      <td>Alive</td>\n",
       "      <td>791</td>\n",
       "    </tr>\n",
       "    <tr>\n",
       "      <th>2</th>\n",
       "      <td>54</td>\n",
       "      <td>FEMALE</td>\n",
       "      <td>0.514320</td>\n",
       "      <td>1.69360</td>\n",
       "      <td>-0.14401</td>\n",
       "      <td>1.02490</td>\n",
       "      <td>III</td>\n",
       "      <td>Infiltrating Ductal Carcinoma</td>\n",
       "      <td>Negative</td>\n",
       "      <td>Modified Radical Mastectomy</td>\n",
       "      <td>Alive</td>\n",
       "      <td>374</td>\n",
       "    </tr>\n",
       "    <tr>\n",
       "      <th>3</th>\n",
       "      <td>49</td>\n",
       "      <td>FEMALE</td>\n",
       "      <td>-0.144410</td>\n",
       "      <td>2.32400</td>\n",
       "      <td>-0.70744</td>\n",
       "      <td>0.71895</td>\n",
       "      <td>III</td>\n",
       "      <td>Infiltrating Ductal Carcinoma</td>\n",
       "      <td>Negative</td>\n",
       "      <td>Modified Radical Mastectomy</td>\n",
       "      <td>Alive</td>\n",
       "      <td>222</td>\n",
       "    </tr>\n",
       "    <tr>\n",
       "      <th>4</th>\n",
       "      <td>44</td>\n",
       "      <td>FEMALE</td>\n",
       "      <td>0.964050</td>\n",
       "      <td>0.82304</td>\n",
       "      <td>-0.30715</td>\n",
       "      <td>-0.14975</td>\n",
       "      <td>III</td>\n",
       "      <td>Infiltrating Ductal Carcinoma</td>\n",
       "      <td>Negative</td>\n",
       "      <td>Lumpectomy</td>\n",
       "      <td>Alive</td>\n",
       "      <td>641</td>\n",
       "    </tr>\n",
       "  </tbody>\n",
       "</table>\n",
       "</div>"
      ],
      "text/plain": [
       "   Age  Gender  Protein1  Protein2  Protein3  Protein4 Tumour_Stage  \\\n",
       "0   36  FEMALE  0.080353   0.42638   0.54715   0.27368          III   \n",
       "1   77  FEMALE  0.477710   0.81881  -0.40630  -0.65479            I   \n",
       "2   54  FEMALE  0.514320   1.69360  -0.14401   1.02490          III   \n",
       "3   49  FEMALE -0.144410   2.32400  -0.70744   0.71895          III   \n",
       "4   44  FEMALE  0.964050   0.82304  -0.30715  -0.14975          III   \n",
       "\n",
       "                        Histology HER2 status                 Surgery_type  \\\n",
       "0   Infiltrating Ductal Carcinoma    Negative  Modified Radical Mastectomy   \n",
       "1  Infiltrating Lobular Carcinoma    Negative                   Lumpectomy   \n",
       "2   Infiltrating Ductal Carcinoma    Negative  Modified Radical Mastectomy   \n",
       "3   Infiltrating Ductal Carcinoma    Negative  Modified Radical Mastectomy   \n",
       "4   Infiltrating Ductal Carcinoma    Negative                   Lumpectomy   \n",
       "\n",
       "  Patient_Status  date_diff  \n",
       "0          Alive        155  \n",
       "1          Alive        791  \n",
       "2          Alive        374  \n",
       "3          Alive        222  \n",
       "4          Alive        641  "
      ]
     },
     "execution_count": 211,
     "metadata": {},
     "output_type": "execute_result"
    }
   ],
   "source": [
    "# print the `final_df`\n",
    "final_df.head()"
   ]
  },
  {
   "cell_type": "code",
   "execution_count": 212,
   "metadata": {},
   "outputs": [
    {
     "data": {
      "application/vnd.plotly.v1+json": {
       "config": {
        "plotlyServerURL": "https://plot.ly"
       },
       "data": [
        {
         "alignmentgroup": "True",
         "legendgroup": "Lumpectomy",
         "marker": {
          "color": "#636efa",
          "pattern": {
           "shape": ""
          }
         },
         "name": "Lumpectomy",
         "offsetgroup": "Lumpectomy",
         "orientation": "v",
         "showlegend": true,
         "textposition": "auto",
         "type": "bar",
         "x": [
          "I",
          "II",
          "III"
         ],
         "xaxis": "x",
         "y": [
          0.34375,
          0.19047619047619047,
          0.09876543209876543
         ],
         "yaxis": "y"
        },
        {
         "alignmentgroup": "True",
         "legendgroup": "Modified Radical Mastectomy",
         "marker": {
          "color": "#EF553B",
          "pattern": {
           "shape": ""
          }
         },
         "name": "Modified Radical Mastectomy",
         "offsetgroup": "Modified Radical Mastectomy",
         "orientation": "v",
         "showlegend": true,
         "textposition": "auto",
         "type": "bar",
         "x": [
          "I",
          "II",
          "III"
         ],
         "xaxis": "x",
         "y": [
          0.125,
          0.25925925925925924,
          0.48148148148148145
         ],
         "yaxis": "y"
        },
        {
         "alignmentgroup": "True",
         "legendgroup": "Other",
         "marker": {
          "color": "#00cc96",
          "pattern": {
           "shape": ""
          }
         },
         "name": "Other",
         "offsetgroup": "Other",
         "orientation": "v",
         "showlegend": true,
         "textposition": "auto",
         "type": "bar",
         "x": [
          "I",
          "II",
          "III"
         ],
         "xaxis": "x",
         "y": [
          0.3125,
          0.32275132275132273,
          0.2962962962962963
         ],
         "yaxis": "y"
        },
        {
         "alignmentgroup": "True",
         "legendgroup": "Simple Mastectomy",
         "marker": {
          "color": "#ab63fa",
          "pattern": {
           "shape": ""
          }
         },
         "name": "Simple Mastectomy",
         "offsetgroup": "Simple Mastectomy",
         "orientation": "v",
         "showlegend": true,
         "textposition": "auto",
         "type": "bar",
         "x": [
          "I",
          "II",
          "III"
         ],
         "xaxis": "x",
         "y": [
          0.21875,
          0.2275132275132275,
          0.12345679012345678
         ],
         "yaxis": "y"
        }
       ],
       "layout": {
        "barmode": "relative",
        "height": 400,
        "hovermode": "x",
        "legend": {
         "title": {
          "text": "<b>Surgery Type</b>"
         },
         "tracegroupgap": 0
        },
        "margin": {
         "t": 60
        },
        "template": {
         "data": {
          "bar": [
           {
            "error_x": {
             "color": "#2a3f5f"
            },
            "error_y": {
             "color": "#2a3f5f"
            },
            "marker": {
             "line": {
              "color": "#E5ECF6",
              "width": 0.5
             },
             "pattern": {
              "fillmode": "overlay",
              "size": 10,
              "solidity": 0.2
             }
            },
            "type": "bar"
           }
          ],
          "barpolar": [
           {
            "marker": {
             "line": {
              "color": "#E5ECF6",
              "width": 0.5
             },
             "pattern": {
              "fillmode": "overlay",
              "size": 10,
              "solidity": 0.2
             }
            },
            "type": "barpolar"
           }
          ],
          "carpet": [
           {
            "aaxis": {
             "endlinecolor": "#2a3f5f",
             "gridcolor": "white",
             "linecolor": "white",
             "minorgridcolor": "white",
             "startlinecolor": "#2a3f5f"
            },
            "baxis": {
             "endlinecolor": "#2a3f5f",
             "gridcolor": "white",
             "linecolor": "white",
             "minorgridcolor": "white",
             "startlinecolor": "#2a3f5f"
            },
            "type": "carpet"
           }
          ],
          "choropleth": [
           {
            "colorbar": {
             "outlinewidth": 0,
             "ticks": ""
            },
            "type": "choropleth"
           }
          ],
          "contour": [
           {
            "colorbar": {
             "outlinewidth": 0,
             "ticks": ""
            },
            "colorscale": [
             [
              0,
              "#0d0887"
             ],
             [
              0.1111111111111111,
              "#46039f"
             ],
             [
              0.2222222222222222,
              "#7201a8"
             ],
             [
              0.3333333333333333,
              "#9c179e"
             ],
             [
              0.4444444444444444,
              "#bd3786"
             ],
             [
              0.5555555555555556,
              "#d8576b"
             ],
             [
              0.6666666666666666,
              "#ed7953"
             ],
             [
              0.7777777777777778,
              "#fb9f3a"
             ],
             [
              0.8888888888888888,
              "#fdca26"
             ],
             [
              1,
              "#f0f921"
             ]
            ],
            "type": "contour"
           }
          ],
          "contourcarpet": [
           {
            "colorbar": {
             "outlinewidth": 0,
             "ticks": ""
            },
            "type": "contourcarpet"
           }
          ],
          "heatmap": [
           {
            "colorbar": {
             "outlinewidth": 0,
             "ticks": ""
            },
            "colorscale": [
             [
              0,
              "#0d0887"
             ],
             [
              0.1111111111111111,
              "#46039f"
             ],
             [
              0.2222222222222222,
              "#7201a8"
             ],
             [
              0.3333333333333333,
              "#9c179e"
             ],
             [
              0.4444444444444444,
              "#bd3786"
             ],
             [
              0.5555555555555556,
              "#d8576b"
             ],
             [
              0.6666666666666666,
              "#ed7953"
             ],
             [
              0.7777777777777778,
              "#fb9f3a"
             ],
             [
              0.8888888888888888,
              "#fdca26"
             ],
             [
              1,
              "#f0f921"
             ]
            ],
            "type": "heatmap"
           }
          ],
          "heatmapgl": [
           {
            "colorbar": {
             "outlinewidth": 0,
             "ticks": ""
            },
            "colorscale": [
             [
              0,
              "#0d0887"
             ],
             [
              0.1111111111111111,
              "#46039f"
             ],
             [
              0.2222222222222222,
              "#7201a8"
             ],
             [
              0.3333333333333333,
              "#9c179e"
             ],
             [
              0.4444444444444444,
              "#bd3786"
             ],
             [
              0.5555555555555556,
              "#d8576b"
             ],
             [
              0.6666666666666666,
              "#ed7953"
             ],
             [
              0.7777777777777778,
              "#fb9f3a"
             ],
             [
              0.8888888888888888,
              "#fdca26"
             ],
             [
              1,
              "#f0f921"
             ]
            ],
            "type": "heatmapgl"
           }
          ],
          "histogram": [
           {
            "marker": {
             "pattern": {
              "fillmode": "overlay",
              "size": 10,
              "solidity": 0.2
             }
            },
            "type": "histogram"
           }
          ],
          "histogram2d": [
           {
            "colorbar": {
             "outlinewidth": 0,
             "ticks": ""
            },
            "colorscale": [
             [
              0,
              "#0d0887"
             ],
             [
              0.1111111111111111,
              "#46039f"
             ],
             [
              0.2222222222222222,
              "#7201a8"
             ],
             [
              0.3333333333333333,
              "#9c179e"
             ],
             [
              0.4444444444444444,
              "#bd3786"
             ],
             [
              0.5555555555555556,
              "#d8576b"
             ],
             [
              0.6666666666666666,
              "#ed7953"
             ],
             [
              0.7777777777777778,
              "#fb9f3a"
             ],
             [
              0.8888888888888888,
              "#fdca26"
             ],
             [
              1,
              "#f0f921"
             ]
            ],
            "type": "histogram2d"
           }
          ],
          "histogram2dcontour": [
           {
            "colorbar": {
             "outlinewidth": 0,
             "ticks": ""
            },
            "colorscale": [
             [
              0,
              "#0d0887"
             ],
             [
              0.1111111111111111,
              "#46039f"
             ],
             [
              0.2222222222222222,
              "#7201a8"
             ],
             [
              0.3333333333333333,
              "#9c179e"
             ],
             [
              0.4444444444444444,
              "#bd3786"
             ],
             [
              0.5555555555555556,
              "#d8576b"
             ],
             [
              0.6666666666666666,
              "#ed7953"
             ],
             [
              0.7777777777777778,
              "#fb9f3a"
             ],
             [
              0.8888888888888888,
              "#fdca26"
             ],
             [
              1,
              "#f0f921"
             ]
            ],
            "type": "histogram2dcontour"
           }
          ],
          "mesh3d": [
           {
            "colorbar": {
             "outlinewidth": 0,
             "ticks": ""
            },
            "type": "mesh3d"
           }
          ],
          "parcoords": [
           {
            "line": {
             "colorbar": {
              "outlinewidth": 0,
              "ticks": ""
             }
            },
            "type": "parcoords"
           }
          ],
          "pie": [
           {
            "automargin": true,
            "type": "pie"
           }
          ],
          "scatter": [
           {
            "marker": {
             "colorbar": {
              "outlinewidth": 0,
              "ticks": ""
             }
            },
            "type": "scatter"
           }
          ],
          "scatter3d": [
           {
            "line": {
             "colorbar": {
              "outlinewidth": 0,
              "ticks": ""
             }
            },
            "marker": {
             "colorbar": {
              "outlinewidth": 0,
              "ticks": ""
             }
            },
            "type": "scatter3d"
           }
          ],
          "scattercarpet": [
           {
            "marker": {
             "colorbar": {
              "outlinewidth": 0,
              "ticks": ""
             }
            },
            "type": "scattercarpet"
           }
          ],
          "scattergeo": [
           {
            "marker": {
             "colorbar": {
              "outlinewidth": 0,
              "ticks": ""
             }
            },
            "type": "scattergeo"
           }
          ],
          "scattergl": [
           {
            "marker": {
             "colorbar": {
              "outlinewidth": 0,
              "ticks": ""
             }
            },
            "type": "scattergl"
           }
          ],
          "scattermapbox": [
           {
            "marker": {
             "colorbar": {
              "outlinewidth": 0,
              "ticks": ""
             }
            },
            "type": "scattermapbox"
           }
          ],
          "scatterpolar": [
           {
            "marker": {
             "colorbar": {
              "outlinewidth": 0,
              "ticks": ""
             }
            },
            "type": "scatterpolar"
           }
          ],
          "scatterpolargl": [
           {
            "marker": {
             "colorbar": {
              "outlinewidth": 0,
              "ticks": ""
             }
            },
            "type": "scatterpolargl"
           }
          ],
          "scatterternary": [
           {
            "marker": {
             "colorbar": {
              "outlinewidth": 0,
              "ticks": ""
             }
            },
            "type": "scatterternary"
           }
          ],
          "surface": [
           {
            "colorbar": {
             "outlinewidth": 0,
             "ticks": ""
            },
            "colorscale": [
             [
              0,
              "#0d0887"
             ],
             [
              0.1111111111111111,
              "#46039f"
             ],
             [
              0.2222222222222222,
              "#7201a8"
             ],
             [
              0.3333333333333333,
              "#9c179e"
             ],
             [
              0.4444444444444444,
              "#bd3786"
             ],
             [
              0.5555555555555556,
              "#d8576b"
             ],
             [
              0.6666666666666666,
              "#ed7953"
             ],
             [
              0.7777777777777778,
              "#fb9f3a"
             ],
             [
              0.8888888888888888,
              "#fdca26"
             ],
             [
              1,
              "#f0f921"
             ]
            ],
            "type": "surface"
           }
          ],
          "table": [
           {
            "cells": {
             "fill": {
              "color": "#EBF0F8"
             },
             "line": {
              "color": "white"
             }
            },
            "header": {
             "fill": {
              "color": "#C8D4E3"
             },
             "line": {
              "color": "white"
             }
            },
            "type": "table"
           }
          ]
         },
         "layout": {
          "annotationdefaults": {
           "arrowcolor": "#2a3f5f",
           "arrowhead": 0,
           "arrowwidth": 1
          },
          "autotypenumbers": "strict",
          "coloraxis": {
           "colorbar": {
            "outlinewidth": 0,
            "ticks": ""
           }
          },
          "colorscale": {
           "diverging": [
            [
             0,
             "#8e0152"
            ],
            [
             0.1,
             "#c51b7d"
            ],
            [
             0.2,
             "#de77ae"
            ],
            [
             0.3,
             "#f1b6da"
            ],
            [
             0.4,
             "#fde0ef"
            ],
            [
             0.5,
             "#f7f7f7"
            ],
            [
             0.6,
             "#e6f5d0"
            ],
            [
             0.7,
             "#b8e186"
            ],
            [
             0.8,
             "#7fbc41"
            ],
            [
             0.9,
             "#4d9221"
            ],
            [
             1,
             "#276419"
            ]
           ],
           "sequential": [
            [
             0,
             "#0d0887"
            ],
            [
             0.1111111111111111,
             "#46039f"
            ],
            [
             0.2222222222222222,
             "#7201a8"
            ],
            [
             0.3333333333333333,
             "#9c179e"
            ],
            [
             0.4444444444444444,
             "#bd3786"
            ],
            [
             0.5555555555555556,
             "#d8576b"
            ],
            [
             0.6666666666666666,
             "#ed7953"
            ],
            [
             0.7777777777777778,
             "#fb9f3a"
            ],
            [
             0.8888888888888888,
             "#fdca26"
            ],
            [
             1,
             "#f0f921"
            ]
           ],
           "sequentialminus": [
            [
             0,
             "#0d0887"
            ],
            [
             0.1111111111111111,
             "#46039f"
            ],
            [
             0.2222222222222222,
             "#7201a8"
            ],
            [
             0.3333333333333333,
             "#9c179e"
            ],
            [
             0.4444444444444444,
             "#bd3786"
            ],
            [
             0.5555555555555556,
             "#d8576b"
            ],
            [
             0.6666666666666666,
             "#ed7953"
            ],
            [
             0.7777777777777778,
             "#fb9f3a"
            ],
            [
             0.8888888888888888,
             "#fdca26"
            ],
            [
             1,
             "#f0f921"
            ]
           ]
          },
          "colorway": [
           "#636efa",
           "#EF553B",
           "#00cc96",
           "#ab63fa",
           "#FFA15A",
           "#19d3f3",
           "#FF6692",
           "#B6E880",
           "#FF97FF",
           "#FECB52"
          ],
          "font": {
           "color": "#2a3f5f"
          },
          "geo": {
           "bgcolor": "white",
           "lakecolor": "white",
           "landcolor": "#E5ECF6",
           "showlakes": true,
           "showland": true,
           "subunitcolor": "white"
          },
          "hoverlabel": {
           "align": "left"
          },
          "hovermode": "closest",
          "mapbox": {
           "style": "light"
          },
          "paper_bgcolor": "white",
          "plot_bgcolor": "#E5ECF6",
          "polar": {
           "angularaxis": {
            "gridcolor": "white",
            "linecolor": "white",
            "ticks": ""
           },
           "bgcolor": "#E5ECF6",
           "radialaxis": {
            "gridcolor": "white",
            "linecolor": "white",
            "ticks": ""
           }
          },
          "scene": {
           "xaxis": {
            "backgroundcolor": "#E5ECF6",
            "gridcolor": "white",
            "gridwidth": 2,
            "linecolor": "white",
            "showbackground": true,
            "ticks": "",
            "zerolinecolor": "white"
           },
           "yaxis": {
            "backgroundcolor": "#E5ECF6",
            "gridcolor": "white",
            "gridwidth": 2,
            "linecolor": "white",
            "showbackground": true,
            "ticks": "",
            "zerolinecolor": "white"
           },
           "zaxis": {
            "backgroundcolor": "#E5ECF6",
            "gridcolor": "white",
            "gridwidth": 2,
            "linecolor": "white",
            "showbackground": true,
            "ticks": "",
            "zerolinecolor": "white"
           }
          },
          "shapedefaults": {
           "line": {
            "color": "#2a3f5f"
           }
          },
          "ternary": {
           "aaxis": {
            "gridcolor": "white",
            "linecolor": "white",
            "ticks": ""
           },
           "baxis": {
            "gridcolor": "white",
            "linecolor": "white",
            "ticks": ""
           },
           "bgcolor": "#E5ECF6",
           "caxis": {
            "gridcolor": "white",
            "linecolor": "white",
            "ticks": ""
           }
          },
          "title": {
           "x": 0.05
          },
          "xaxis": {
           "automargin": true,
           "gridcolor": "white",
           "linecolor": "white",
           "ticks": "",
           "title": {
            "standoff": 15
           },
           "zerolinecolor": "white",
           "zerolinewidth": 2
          },
          "yaxis": {
           "automargin": true,
           "gridcolor": "white",
           "linecolor": "white",
           "ticks": "",
           "title": {
            "standoff": 15
           },
           "zerolinecolor": "white",
           "zerolinewidth": 2
          }
         }
        },
        "title": {
         "font": {
          "color": "#000000",
          "size": 14
         },
         "text": "<b>Surgery Performed on Patients by Tumour Stages</b>",
         "x": 0.5,
         "y": 0.95
        },
        "width": 600,
        "xaxis": {
         "anchor": "y",
         "domain": [
          0,
          1
         ],
         "title": {
          "font": {
           "size": 13
          },
          "text": "<b>Tumour Stage</b>"
         }
        },
        "yaxis": {
         "anchor": "x",
         "domain": [
          0,
          1
         ],
         "title": {
          "font": {
           "size": 13
          },
          "text": "<b>Proportions</b>"
         }
        }
       }
      }
     },
     "metadata": {},
     "output_type": "display_data"
    }
   ],
   "source": [
    "# plot `Tumor_Stage` proportions by `Surgery_Type`\n",
    "fig = px.bar(\n",
    "    data_frame=final_df.groupby(\"Tumour_Stage\").Surgery_type.value_counts(normalize=True, sort=True).unstack(),\n",
    "    height=400,\n",
    "    width=600\n",
    ")\n",
    "\n",
    "fig.update_layout(xaxis_title=dict(text='<b>Tumour Stage</b>',\n",
    "                                   font=dict(\n",
    "                                   size=13)),\n",
    "                  yaxis_title=dict(text='<b>'\"Proportions\"'</b>',\n",
    "                                   font=dict(\n",
    "                                   size=13)),\n",
    "                  legend_title_text='<b>Surgery Type</b>',\n",
    "                  title=dict(text='<b>Surgery Performed on Patients by Tumour Stages</b>',\n",
    "                             x=0.5,\n",
    "                             y=0.95,\n",
    "                             font=dict(\n",
    "                                size=14,\n",
    "                                color='#000000'\n",
    "                             )),\n",
    "                  hovermode=\"x\"\n",
    ")\n",
    "\n",
    "fig.update_traces(hovertemplate=None)\n",
    "\n",
    "fig.show()"
   ]
  },
  {
   "attachments": {},
   "cell_type": "markdown",
   "metadata": {},
   "source": [
    "clearly seems to be a difference between the Surgery procedures being performed for different Tumour Stage Patients."
   ]
  },
  {
   "attachments": {},
   "cell_type": "markdown",
   "metadata": {},
   "source": [
    "Null Hypothesis Ho: Surgery Procedures are independent of Patients' Tumour Stages.\n",
    "\n",
    "Alternative Hypothesis H1: Surgery Procedures are dependent on the Patients' Tumour Stages.\n",
    "\n",
    "α : 0.05"
   ]
  },
  {
   "cell_type": "code",
   "execution_count": 214,
   "metadata": {},
   "outputs": [
    {
     "name": "stdout",
     "output_type": "stream",
     "text": [
      "       pval   power\n",
      "0  0.000022  0.8604\n",
      "\n",
      "We reject the Null Hypothesis Ho and come to a conclusion that Surgery Procedures dependend on the Patients' Tumour Stages.\n"
     ]
    }
   ],
   "source": [
    "# perform the chi-squared test of indpendence to conclude the results\n",
    "alpha = 0.05\n",
    "\n",
    "_, _, stats = pgn.chi2_independence(data=final_df,\n",
    "                                    x=\"Tumour_Stage\",\n",
    "                                    y=\"Surgery_type\")\n",
    "\n",
    "print(stats[stats[\"test\"].isin([\"pearson\"])][[\"pval\", \"power\"]])\n",
    "\n",
    "p_val = stats[stats[\"test\"].isin([\"pearson\"])].pval.values\n",
    "\n",
    "if p_val <= alpha:\n",
    "    print(f\"\\nWe reject the Null Hypothesis Ho and come to a conclusion that Surgery Procedures dependend on the Patients' Tumour Stages.\")\n",
    "else:\n",
    "    print(f\"\\nWe fail to reject the Null Hypothesis Ho as the p-value {p_val:.2f} is larger than {alpha}.\")"
   ]
  },
  {
   "attachments": {},
   "cell_type": "markdown",
   "metadata": {},
   "source": [
    "- Mean Patients' Age by Tumour Stages (to define skewness)"
   ]
  },
  {
   "cell_type": "code",
   "execution_count": 218,
   "metadata": {},
   "outputs": [
    {
     "data": {
      "image/png": "[encoded data removed]",
      "text/plain": [
       "<Figure size 432x288 with 1 Axes>"
      ]
     },
     "metadata": {},
     "output_type": "display_data"
    },
    {
     "name": "stdout",
     "output_type": "stream",
     "text": [
      "Tumour Stage I: ShapiroResult(statistic=0.9820309281349182, pvalue=0.4755757749080658)\n",
      "Tumour Stage II: ShapiroResult(statistic=0.9830440878868103, pvalue=0.021880697458982468)\n",
      "Tumour Stage III: ShapiroResult(statistic=0.9523248076438904, pvalue=0.004373527597635984)\n"
     ]
    }
   ],
   "source": [
    "# plot a distribution of Age by Tumour Stages\n",
    "sns.histplot(final_df, x=\"Age\", hue=\"Tumour_Stage\", kde=True)\n",
    "plt.title(\"Distribution of Patients' Age by Tumour Stages\")\n",
    "plt.show()\n",
    "\n",
    "# check if the data drawn from each Tumour Stage for Age is normally distributed\n",
    "for i in final_df.groupby(\"Tumour_Stage\").Age:\n",
    "    print(f\"Tumour Stage {i[0]}: {st.shapiro(i[1])}\")"
   ]
  },
  {
   "attachments": {},
   "cell_type": "markdown",
   "metadata": {},
   "source": [
    "Null Hypothesis Ho: Mean patient age is different for different tumour stages\n",
    "\n",
    "Alternative Hypothesis H1: Mean patient age is different for different tumour stages\n",
    "\n",
    "Statistical Significance α : 0.05\n"
   ]
  },
  {
   "cell_type": "code",
   "execution_count": 219,
   "metadata": {},
   "outputs": [
    {
     "name": "stdout",
     "output_type": "stream",
     "text": [
      "We reject the Null Hypothesis Ho as the p-value 0.01 is smaller than 0.05, and come to a conclusion that at-least one mean patient age is different for different tumour stages .\n"
     ]
    }
   ],
   "source": [
    "# perform kruskal test to check if the mean patient age is different for different tumour stages \n",
    "alpha = 0.05\n",
    "stats = pgn.kruskal(data=final_df,\n",
    "                    dv=\"Age\",\n",
    "                    between=\"Tumour_Stage\")\n",
    "\n",
    "p_val = stats[\"p-unc\"].values[0]\n",
    "\n",
    "if p_val <= alpha:\n",
    "    print(f\"We reject the Null Hypothesis Ho as the p-value {p_val:.2f} is smaller than {alpha}, and come to a conclusion that at-least one mean patient age is different for different tumour stages .\")\n",
    "else:\n",
    "    print(f\"We fail to reject the Null Hypothesis Ho as the p-value {p_val:.2f} is larger than {alpha}.\")"
   ]
  },
  {
   "attachments": {},
   "cell_type": "markdown",
   "metadata": {},
   "source": [
    "- Patients' Survival Curve by Tumour-Stages (Non-Parametric)"
   ]
  },
  {
   "cell_type": "code",
   "execution_count": 220,
   "metadata": {},
   "outputs": [
    {
     "data": {
      "text/html": [
       "<div>\n",
       "<style scoped>\n",
       "    .dataframe tbody tr th:only-of-type {\n",
       "        vertical-align: middle;\n",
       "    }\n",
       "\n",
       "    .dataframe tbody tr th {\n",
       "        vertical-align: top;\n",
       "    }\n",
       "\n",
       "    .dataframe thead th {\n",
       "        text-align: right;\n",
       "    }\n",
       "</style>\n",
       "<table border=\"1\" class=\"dataframe\">\n",
       "  <thead>\n",
       "    <tr style=\"text-align: right;\">\n",
       "      <th></th>\n",
       "      <th>Tumour_Stage</th>\n",
       "      <th>date_diff</th>\n",
       "      <th>has_passed_away</th>\n",
       "    </tr>\n",
       "  </thead>\n",
       "  <tbody>\n",
       "    <tr>\n",
       "      <th>0</th>\n",
       "      <td>III</td>\n",
       "      <td>155</td>\n",
       "      <td>0</td>\n",
       "    </tr>\n",
       "    <tr>\n",
       "      <th>1</th>\n",
       "      <td>I</td>\n",
       "      <td>791</td>\n",
       "      <td>0</td>\n",
       "    </tr>\n",
       "    <tr>\n",
       "      <th>2</th>\n",
       "      <td>III</td>\n",
       "      <td>374</td>\n",
       "      <td>0</td>\n",
       "    </tr>\n",
       "    <tr>\n",
       "      <th>3</th>\n",
       "      <td>III</td>\n",
       "      <td>222</td>\n",
       "      <td>0</td>\n",
       "    </tr>\n",
       "    <tr>\n",
       "      <th>4</th>\n",
       "      <td>III</td>\n",
       "      <td>641</td>\n",
       "      <td>0</td>\n",
       "    </tr>\n",
       "  </tbody>\n",
       "</table>\n",
       "</div>"
      ],
      "text/plain": [
       "  Tumour_Stage  date_diff  has_passed_away\n",
       "0          III        155                0\n",
       "1            I        791                0\n",
       "2          III        374                0\n",
       "3          III        222                0\n",
       "4          III        641                0"
      ]
     },
     "execution_count": 220,
     "metadata": {},
     "output_type": "execute_result"
    }
   ],
   "source": [
    "# get the data in the right shape\n",
    "survival_df = df.dropna(how=\"any\")[[\"Tumour_Stage\", \"date_diff\", \"Patient_Status\"]].copy()\n",
    "survival_df[\"has_passed_away\"] = survival_df.apply(lambda row: 0 if row.Patient_Status==\"Alive\" else 1, axis=1).astype(\"int32\")\n",
    "\n",
    "# drop uneccessary features\n",
    "survival_df.drop(\"Patient_Status\", axis=1, inplace=True)\n",
    "\n",
    "# print the survival_df\n",
    "survival_df.head()"
   ]
  },
  {
   "cell_type": "code",
   "execution_count": 221,
   "metadata": {},
   "outputs": [
    {
     "data": {
      "text/plain": [
       "Tumour_Stage  has_passed_away\n",
       "I             0                  0.836066\n",
       "              1                  0.163934\n",
       "II            0                  0.791209\n",
       "              1                  0.208791\n",
       "III           0                  0.769231\n",
       "              1                  0.230769\n",
       "Name: has_passed_away, dtype: float64"
      ]
     },
     "execution_count": 221,
     "metadata": {},
     "output_type": "execute_result"
    }
   ],
   "source": [
    "# check whether the survival curve will be valid\n",
    "survival_df.groupby(\"Tumour_Stage\").has_passed_away.value_counts(normalize=True)"
   ]
  },
  {
   "cell_type": "code",
   "execution_count": 222,
   "metadata": {},
   "outputs": [
    {
     "data": {
      "image/png": "[encoded data removed]",
      "text/plain": [
       "<Figure size 360x288 with 1 Axes>"
      ]
     },
     "metadata": {},
     "output_type": "display_data"
    }
   ],
   "source": [
    "# plot the survival curve\n",
    "kmf = KaplanMeierFitter()\n",
    "\n",
    "stage_1_df = survival_df[survival_df.Tumour_Stage==\"I\"]\n",
    "stage_2_df = survival_df[survival_df.Tumour_Stage==\"II\"]\n",
    "stage_3_df = survival_df[survival_df.Tumour_Stage==\"III\"]\n",
    "\n",
    "sns.set_style(\"white\")\n",
    "plt.figure(figsize=(5, 4))\n",
    "\n",
    "kmf.fit(durations=stage_1_df[\"date_diff\"].values/365.5, event_observed=stage_1_df[\"has_passed_away\"].values, label=\"Tumour Stage - I\")\n",
    "kmf.plot()\n",
    "\n",
    "kmf.fit(durations=stage_2_df[\"date_diff\"].values/365.5, event_observed=stage_2_df[\"has_passed_away\"].values, label=\"Tumour Stage - II\")\n",
    "kmf.plot()\n",
    "\n",
    "kmf.fit(durations=stage_3_df[\"date_diff\"].values/365.5, event_observed=stage_3_df[\"has_passed_away\"].values, label=\"Tumour Stage - III\")\n",
    "kmf.plot()\n",
    "\n",
    "plt.title(\"Survival Curves by Tumour Stages\", y=1.1)\n",
    "plt.ylabel(\"Survival Probability\")\n",
    "plt.xlabel(\"Time (Years)\")ؤ\n",
    "plt.legend(bbox_to_anchor=(1.5, 1))"
   ]
  },
  {
   "attachments": {},
   "cell_type": "markdown",
   "metadata": {},
   "source": [
    "Null Hypothesis Ho: There is no difference between the survival curves of patients belonging to Tumour Stage - I and Tumour Stage - III categories.\n",
    "\n",
    "Alternative Hypothesis H1: There is a difference between the survival curves of patients belonging to Tumour Stage - I and Tumour Stage - III categories.\n",
    "\n",
    "α : 0.05"
   ]
  },
  {
   "cell_type": "code",
   "execution_count": 223,
   "metadata": {},
   "outputs": [
    {
     "data": {
      "text/html": [
       "<div>\n",
       "<style scoped>\n",
       "    .dataframe tbody tr th:only-of-type {\n",
       "        vertical-align: middle;\n",
       "    }\n",
       "\n",
       "    .dataframe tbody tr th {\n",
       "        vertical-align: top;\n",
       "    }\n",
       "\n",
       "    .dataframe thead th {\n",
       "        text-align: right;\n",
       "    }\n",
       "</style>\n",
       "<table border=\"1\" class=\"dataframe\">\n",
       "  <tbody>\n",
       "    <tr>\n",
       "      <th>t_0</th>\n",
       "      <td>-1</td>\n",
       "    </tr>\n",
       "    <tr>\n",
       "      <th>null_distribution</th>\n",
       "      <td>chi squared</td>\n",
       "    </tr>\n",
       "    <tr>\n",
       "      <th>degrees_of_freedom</th>\n",
       "      <td>1</td>\n",
       "    </tr>\n",
       "    <tr>\n",
       "      <th>test_name</th>\n",
       "      <td>logrank_test</td>\n",
       "    </tr>\n",
       "  </tbody>\n",
       "</table>\n",
       "</div><table border=\"1\" class=\"dataframe\">\n",
       "  <thead>\n",
       "    <tr style=\"text-align: right;\">\n",
       "      <th></th>\n",
       "      <th>test_statistic</th>\n",
       "      <th>p</th>\n",
       "      <th>-log2(p)</th>\n",
       "    </tr>\n",
       "  </thead>\n",
       "  <tbody>\n",
       "    <tr>\n",
       "      <th>0</th>\n",
       "      <td>1.31</td>\n",
       "      <td>0.25</td>\n",
       "      <td>1.99</td>\n",
       "    </tr>\n",
       "  </tbody>\n",
       "</table>"
      ],
      "text/latex": [
       "\\begin{tabular}{lrrr}\n",
       " & test_statistic & p & -log2(p) \\\\\n",
       "0 & 1.31 & 0.25 & 1.99 \\\\\n",
       "\\end{tabular}\n"
      ],
      "text/plain": [
       "<lifelines.StatisticalResult: logrank_test>\n",
       "               t_0 = -1\n",
       " null_distribution = chi squared\n",
       "degrees_of_freedom = 1\n",
       "         test_name = logrank_test\n",
       "\n",
       "---\n",
       " test_statistic    p  -log2(p)\n",
       "           1.31 0.25      1.99"
      ]
     },
     "execution_count": 223,
     "metadata": {},
     "output_type": "execute_result"
    }
   ],
   "source": [
    "# `logrank test` to compares survival probabilities between groups at each time\n",
    "lrt = logrank_test(durations_A=stage_1_df[\"date_diff\"].values/365.5,\n",
    "                   durations_B=stage_2_df[\"date_diff\"].values/365.5,\n",
    "                   event_observed_A=stage_1_df[\"has_passed_away\"].values,\n",
    "                   event_observed_B=stage_2_df[\"has_passed_away\"].values)\n",
    "\n",
    "lrt"
   ]
  }
 ],
 "metadata": {
  "kernelspec": {
   "display_name": "base",
   "language": "python",
   "name": "python3"
  },
  "language_info": {
   "codemirror_mode": {
    "name": "ipython",
    "version": 3
   },
   "file_extension": ".py",
   "mimetype": "text/x-python",
   "name": "python",
   "nbconvert_exporter": "python",
   "pygments_lexer": "ipython3",
   "version": "3.9.12"
  },
  "orig_nbformat": 4,
  "vscode": {
   "interpreter": {
    "hash": "912f24a63204a62ae6f36d95d79b9e43db83514d3f9b2b7010f4e602c1266e96"
   }
  }
 },
 "nbformat": 4,
 "nbformat_minor": 2
}
